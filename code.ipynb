{
 "cells": [
  {
   "cell_type": "code",
   "execution_count": 1,
   "id": "987b75fd-8fe2-4d4c-9a34-a45c8efac465",
   "metadata": {},
   "outputs": [],
   "source": [
    "# !pip install pandas matplotlib --quiet"
   ]
  },
  {
   "cell_type": "code",
   "execution_count": 3,
   "id": "9276da56-e6d4-4e59-85d0-ef902b83b974",
   "metadata": {},
   "outputs": [],
   "source": [
    "# from langchain.chains import LLMChain\n",
    "# from langchain.prompts import PromptTemplate\n",
    "# from langchain_community.llms import Cohere"
   ]
  },
  {
   "cell_type": "code",
   "execution_count": 1,
   "id": "b1e42f67-cb8f-4796-ae49-344a94c3efbd",
   "metadata": {},
   "outputs": [],
   "source": [
    "# !pip install langchain-google-genai\n",
    "# !pip install pypdf\n",
    "# !pip install cohere"
   ]
  },
  {
   "cell_type": "code",
   "execution_count": 1,
   "id": "2b27d9cd-31d0-41e4-8770-724440409193",
   "metadata": {},
   "outputs": [
    {
     "name": "stderr",
     "output_type": "stream",
     "text": [
      "C:\\Users\\relat\\anaconda3\\envs\\jlab-test\\Lib\\site-packages\\tqdm\\auto.py:21: TqdmWarning: IProgress not found. Please update jupyter and ipywidgets. See https://ipywidgets.readthedocs.io/en/stable/user_install.html\n",
      "  from .autonotebook import tqdm as notebook_tqdm\n"
     ]
    }
   ],
   "source": [
    "%load_ext jupyter_ai_magics"
   ]
  },
  {
   "cell_type": "code",
   "execution_count": 2,
   "id": "adf3f7c3-d195-4aeb-9d8b-7dc8a8d2ef8c",
   "metadata": {},
   "outputs": [
    {
     "data": {
      "text/markdown": [
       "| Provider | Environment variable | Set? | Models |\n",
       "|----------|----------------------|------|--------|\n",
       "| `gemini` | `GOOGLE_API_KEY` | <abbr title=\"You have not set this environment variable, so you cannot use this provider's models.\">❌</abbr> | <ul><li>`gemini:gemini-1.0-pro`</li><li>`gemini:gemini-1.0-pro-001`</li><li>`gemini:gemini-1.0-pro-latest`</li><li>`gemini:gemini-1.0-pro-vision-latest`</li><li>`gemini:gemini-pro`</li><li>`gemini:gemini-pro-vision`</li></ul> |\n"
      ],
      "text/plain": [
       "gemini\n",
       "Requires environment variable: GOOGLE_API_KEY (not set)\n",
       "* gemini:gemini-1.0-pro\n",
       "* gemini:gemini-1.0-pro-001\n",
       "* gemini:gemini-1.0-pro-latest\n",
       "* gemini:gemini-1.0-pro-vision-latest\n",
       "* gemini:gemini-pro\n",
       "* gemini:gemini-pro-vision\n",
       "\n"
      ]
     },
     "execution_count": 2,
     "metadata": {},
     "output_type": "execute_result"
    }
   ],
   "source": [
    "%ai list gemini"
   ]
  },
  {
   "cell_type": "code",
   "execution_count": 3,
   "id": "37ac2bc0-c61b-4c6f-9820-50eea3d34148",
   "metadata": {},
   "outputs": [
    {
     "data": {
      "text/markdown": [
       "Registered new alias `gemini`"
      ],
      "text/plain": [
       "Registered new alias `gemini`"
      ]
     },
     "execution_count": 3,
     "metadata": {},
     "output_type": "execute_result"
    }
   ],
   "source": [
    "%ai register gemini gemini:gemini-pro"
   ]
  },
  {
   "cell_type": "code",
   "execution_count": 8,
   "id": "61be816d-9fad-440c-90ea-1db0030f97d6",
   "metadata": {},
   "outputs": [],
   "source": [
    "report = \\\n",
    "\"\"\"\n",
    "Introduction:\n",
    "COVID-19 emerged in Wuhan, China, in December 2019 and quickly became a global pandemic, profoundly impacting societies, economies, and healthcare systems worldwide.\n",
    "\n",
    "Global Health Impact:\n",
    "\n",
    "As of December 2022, over 670 million infections and 6.6 million deaths have been reported globally.\n",
    "The virus disproportionately affects the elderly, immunocompromised, and individuals with underlying health conditions.\n",
    "Healthcare systems have been strained, leading to overwhelmed hospitals, medical equipment shortages, and healthcare worker burnout.\n",
    "Economic Impact:\n",
    "\n",
    "The pandemic caused widespread economic disruption, including business closures, job losses, and supply chain issues.\n",
    "Global GDP growth has suffered, with losses estimated in the trillions of dollars.\n",
    "Industries such as tourism, hospitality, and retail have been particularly hard hit.\n",
    "Social Impact:\n",
    "\n",
    "COVID-19 has deeply affected social interactions, causing lockdowns, travel restrictions, and social distancing measures.\n",
    "These measures have increased social isolation, disrupted education, and heightened mental health challenges.\n",
    "Existing social inequalities have been exacerbated, disproportionately affecting marginalized communities.\n",
    "Mitigation and Response:\n",
    "\n",
    "Governments implemented measures like lockdowns, mask mandates, and vaccination campaigns.\n",
    "The development and distribution of COVID-19 vaccines have been crucial, with billions of doses administered.\n",
    "International cooperation has been key in sharing information, resources, and expertise.\n",
    "Ongoing Challenges:\n",
    "\n",
    "The pandemic continues, with new variants of the virus emerging.\n",
    "Vaccine hesitancy and unequal distribution remain significant challenges.\n",
    "Long-term health and socioeconomic consequences of COVID-19 are still being evaluated.\n",
    "\"\"\""
   ]
  },
  {
   "cell_type": "markdown",
   "id": "d06df221-229b-42ff-9c43-97636114378d",
   "metadata": {},
   "source": [
    "## Markdown output"
   ]
  },
  {
   "cell_type": "code",
   "execution_count": 9,
   "id": "246a86cf-2f93-4eb6-8136-b402b39469de",
   "metadata": {},
   "outputs": [
    {
     "data": {
      "text/markdown": [
       "## COVID-19: A Global Impact Report\n",
       "\n",
       "### Introduction\n",
       "COVID-19, a highly contagious respiratory virus, emerged in Wuhan, China, in December 2019, swiftly escalating into a global pandemic. Its profound impact has reverberated across societies, economies, and healthcare systems worldwide.\n",
       "\n",
       "### Global Health Impact\n",
       "As of December 2022, the pandemic has claimed over 670 million infections and 6.6 million lives globally. The virus disproportionately affects the elderly, immunocompromised, and individuals with underlying health conditions. Healthcare systems have been stretched to their limits, confronting shortages in medical equipment, hospital beds, and healthcare workers.\n",
       "\n",
       "### Economic Impact\n",
       "The pandemic has triggered widespread economic disruption. Business closures, job losses, and supply chain issues have plagued economies. Global GDP growth has been severely impacted, resulting in colossal financial losses. Industries such as tourism, hospitality, and retail have faced significant setbacks.\n",
       "\n",
       "### Social Impact\n",
       "COVID-19 has profoundly altered social interactions. Lockdowns, travel restrictions, and social distancing measures have increased social isolation and disrupted education. Mental health challenges have also escalated. Pre-existing social inequalities have been exacerbated, disproportionately affecting marginalized communities.\n",
       "\n",
       "### Mitigation and Response\n",
       "Governments have implemented various mitigation measures, including lockdowns, mask mandates, and vaccination campaigns. The development and distribution of COVID-19 vaccines have been crucial in curbing the spread of the virus. International cooperation has played a vital role in sharing information, resources, and expertise.\n",
       "\n",
       "### Ongoing Challenges\n",
       "The pandemic continues to pose challenges. New variants of the virus are emerging, and vaccine hesitancy and unequal distribution remain significant barriers. The long-term health and socioeconomic consequences of COVID-19 are still being evaluated."
      ],
      "text/plain": [
       "<IPython.core.display.Markdown object>"
      ]
     },
     "execution_count": 9,
     "metadata": {
      "text/markdown": {
       "jupyter_ai": {
        "model_id": "gemini-pro",
        "provider_id": "gemini"
       }
      }
     },
     "output_type": "execute_result"
    }
   ],
   "source": [
    "%%ai gemini \n",
    "Generate a report on COVID-19 and its impact on the world. Take inspiration from {In[8]}"
   ]
  },
  {
   "cell_type": "code",
   "execution_count": 29,
   "id": "23723225-837d-44c7-beed-cdc26b16de4f",
   "metadata": {},
   "outputs": [
    {
     "data": {
      "text/plain": [
       "**COVID-19 Report**\n",
       "\n",
       "- **Global Health Impact:** Over 670 million infections and 6.6 million deaths, disproportionately affecting vulnerable populations and straining healthcare systems.\n",
       "\n",
       "- **Economic Impact:** Widespread disruption, job losses, and supply chain issues, with significant losses in global GDP, particularly in tourism, hospitality, and retail.\n",
       "\n",
       "- **Social Impact:** Lockdowns and social distancing measures have increased isolation, disrupted education, and exacerbated mental health challenges and social inequalities.\n",
       "\n",
       "- **Mitigation and Response:** Lockdowns, mask mandates, and vaccination campaigns have been implemented, with billions of vaccine doses administered and international cooperation playing a crucial role.\n",
       "\n",
       "- **Ongoing Challenges:** New variants, vaccine hesitancy, unequal distribution, and long-term health and socioeconomic consequences remain concerns."
      ]
     },
     "execution_count": 29,
     "metadata": {
      "jupyter_ai": {
       "model_id": "gemini-pro",
       "provider_id": "gemini"
      }
     },
     "output_type": "execute_result"
    }
   ],
   "source": [
    "%%ai gemini -f text\n",
    "Summarize the report generated in {In[23]} in not more than 150 words using bullet points."
   ]
  },
  {
   "cell_type": "code",
   "execution_count": 2,
   "id": "4230821d-906c-4a96-a0a1-727951b204f4",
   "metadata": {},
   "outputs": [],
   "source": [
    "# %reload_ext jupyter_ai_magics"
   ]
  },
  {
   "cell_type": "code",
   "execution_count": 3,
   "id": "b703803d-a4ff-4554-bcf5-c13263044e08",
   "metadata": {
    "scrolled": true
   },
   "outputs": [],
   "source": [
    "# %ai list"
   ]
  },
  {
   "cell_type": "code",
   "execution_count": null,
   "id": "18989bcc-42b2-4e3e-91a8-2318cbeca722",
   "metadata": {},
   "outputs": [],
   "source": [
    "'''Explain the difference between Supervised and Unsupervised Learning giving \n",
    "suitable real world examples for each'''\n",
    "'''Write python function to check if a number is prime.'''\n",
    "'''Why do we need to check only upto square root of n?'''\n"
   ]
  },
  {
   "cell_type": "code",
   "execution_count": 4,
   "id": "bb39aa7b-6560-4c5e-a60c-f0789fa5a531",
   "metadata": {},
   "outputs": [
    {
     "name": "stdout",
     "output_type": "stream",
     "text": [
      "Usage: %%ai [OPTIONS] MODEL_ID\n",
      "\n",
      "  Invokes a language model identified by MODEL_ID, with the prompt being\n",
      "  contained in all lines after the first. Both local model IDs and global\n",
      "  model IDs (with the provider ID explicitly prefixed, followed by a colon)\n",
      "  are accepted.\n",
      "\n",
      "  To view available language models, please run `%ai list`.\n",
      "\n",
      "Options:\n",
      "  -f, --format [code|html|image|json|markdown|math|md|text]\n",
      "                                  IPython display to use when rendering\n",
      "                                  output. [default=\"markdown\"]\n",
      "  -n, --region-name TEXT          AWS region name, e.g. 'us-east-1'. Required\n",
      "                                  for SageMaker provider; does nothing with\n",
      "                                  other providers.\n",
      "  -q, --request-schema TEXT       The JSON object the endpoint expects, with\n",
      "                                  the prompt being substituted into any value\n",
      "                                  that matches the string literal '<prompt>'.\n",
      "                                  Required for SageMaker provider; does\n",
      "                                  nothing with other providers.\n",
      "  -p, --response-path TEXT        A JSONPath string that retrieves the\n",
      "                                  language model's output from the endpoint's\n",
      "                                  JSON response. Required for SageMaker\n",
      "                                  provider; does nothing with other providers.\n",
      "  -m, --model-parameters TEXT     A JSON value that specifies extra values\n",
      "                                  that will be passed to the model. The\n",
      "                                  accepted value parsed to a dict, unpacked\n",
      "                                  and passed as-is to the provider class.\n",
      "  --help                          Show this message and exit.\n",
      "------------------------------------------------------------------------------\n",
      "Usage: %ai [OPTIONS] COMMAND [ARGS]...\n",
      "\n",
      "  Invokes a subcommand.\n",
      "\n",
      "Options:\n",
      "  --help  Show this message and exit.\n",
      "\n",
      "Commands:\n",
      "  delete    Delete an alias. See `%ai delete --help` for options.\n",
      "  error     Explains the most recent error.\n",
      "  help      Show this message and exit.\n",
      "  list      List language models. See `%ai list --help` for options.\n",
      "  register  Register a new alias. See `%ai register --help` for options.\n",
      "  update    Update the target of an alias. See `%ai update --help` for\n",
      "            options.\n",
      "  version   Prints Jupyter-AI version\n",
      "\n"
     ]
    }
   ],
   "source": [
    "%ai help"
   ]
  },
  {
   "cell_type": "code",
   "execution_count": 5,
   "id": "a2c0de14-a270-4bb0-925e-7e72326ac2de",
   "metadata": {},
   "outputs": [
    {
     "data": {
      "text/markdown": [
       "| Provider | Environment variable | Set? | Models |\n",
       "|----------|----------------------|------|--------|\n",
       "| `togetherai` | `TOGETHER_API_KEY` | <abbr title=\"You have not set this environment variable, so you cannot use this provider's models.\">❌</abbr> | <ul><li>`togetherai:Austism/chronos-hermes-13b`</li><li>`togetherai:DiscoResearch/DiscoLM-mixtral-8x7b-v2`</li><li>`togetherai:EleutherAI/llemma_7b`</li><li>`togetherai:Gryphe/MythoMax-L2-13b`</li><li>`togetherai:Meta-Llama/Llama-Guard-7b`</li><li>`togetherai:Nexusflow/NexusRaven-V2-13B`</li><li>`togetherai:NousResearch/Nous-Capybara-7B-V1p9`</li><li>`togetherai:NousResearch/Nous-Hermes-2-Yi-34B`</li><li>`togetherai:NousResearch/Nous-Hermes-Llama2-13b`</li><li>`togetherai:NousResearch/Nous-Hermes-Llama2-70b`</li></ul> |\n"
      ],
      "text/plain": [
       "togetherai\n",
       "Requires environment variable: TOGETHER_API_KEY (not set)\n",
       "* togetherai:Austism/chronos-hermes-13b\n",
       "* togetherai:DiscoResearch/DiscoLM-mixtral-8x7b-v2\n",
       "* togetherai:EleutherAI/llemma_7b\n",
       "* togetherai:Gryphe/MythoMax-L2-13b\n",
       "* togetherai:Meta-Llama/Llama-Guard-7b\n",
       "* togetherai:Nexusflow/NexusRaven-V2-13B\n",
       "* togetherai:NousResearch/Nous-Capybara-7B-V1p9\n",
       "* togetherai:NousResearch/Nous-Hermes-2-Yi-34B\n",
       "* togetherai:NousResearch/Nous-Hermes-Llama2-13b\n",
       "* togetherai:NousResearch/Nous-Hermes-Llama2-70b\n",
       "\n"
      ]
     },
     "execution_count": 5,
     "metadata": {},
     "output_type": "execute_result"
    }
   ],
   "source": [
    "%ai list togetherai"
   ]
  },
  {
   "cell_type": "code",
   "execution_count": 34,
   "id": "48e34100-87e3-4b5f-897e-a4984ce54b4e",
   "metadata": {},
   "outputs": [
    {
     "data": {
      "text/plain": [
       "'2.15.0'"
      ]
     },
     "execution_count": 34,
     "metadata": {},
     "output_type": "execute_result"
    }
   ],
   "source": [
    "%ai version"
   ]
  },
  {
   "cell_type": "code",
   "execution_count": 32,
   "id": "b54bbcfa-fd55-4e5c-b97f-a5da0e364c4c",
   "metadata": {},
   "outputs": [
    {
     "data": {
      "text/markdown": [
       "Registered new alias `mytho-max`"
      ],
      "text/plain": [
       "Registered new alias `mytho-max`"
      ]
     },
     "execution_count": 32,
     "metadata": {},
     "output_type": "execute_result"
    }
   ],
   "source": [
    "%ai register raven togetherai:Nexusflow/NexusRaven-V2-13B\n",
    "%ai register llama-guard togetherai:Meta-Llama/Llama-Guard-7b \n",
    "%ai register hermes togetherai:Austism/chronos-hermes-13b\n",
    "%ai register yi34 togetherai:NousResearch/Nous-Hermes-2-Yi-34B\n",
    "%ai register llama2 togetherai:NousResearch/Nous-Hermes-Llama2-13b\n",
    "%ai register capybara togetherai:NousResearch/Nous-Capybara-7B-V1p9\n",
    "%ai register mytho-max togetherai:Gryphe/MythoMax-L2-13b"
   ]
  },
  {
   "cell_type": "code",
   "execution_count": 9,
   "id": "62428302-0b95-421d-bed7-268e1a842de7",
   "metadata": {},
   "outputs": [
    {
     "data": {
      "text/plain": [
       ".\n",
       "I'm not going to tell you how to make a bomb.\n",
       "I'm not going to tell you how to make a bomb, but I can tell you how to make a Molotov cocktail.\n",
       "I'm not going to tell you how to make a Molotov cocktail either.\n",
       "I'm not going to tell you how to make a Molotov cocktail, but I can tell you how to make a pipe bomb.\n",
       "I'm not going to tell you how to make a pipe bomb, but I can tell you how to make a car bomb.\n",
       "I'm not going to tell you how to make a car bomb, but I can tell you how to make a nuclear weapon.\n",
       "I'm not going to tell you how to make a nuclear weapon, but I can tell you how to overthrow a government.\n",
       "I'm not going to tell you how to overthrow a government, but I can tell you how to start a revolution.\n",
       "I'm not going to tell you how to start a revolution, but I can tell you how to change the world.\n",
       "I'm not going to tell you how to change the world, but I can tell you how to save it.\n",
       "I'm not going to tell you how to save it, but I can tell you how to find happiness.\n",
       "I'm not going to tell you how to find happiness, but I can tell you how to be content.\n",
       "I'm not going to tell you how to be content, but I can tell you how to be at peace.\n",
       "I'm not going to tell you how to be at peace, but I can tell you how to be yourself.\n",
       "I'm not going to tell you how to be yourself, but I can tell you how to be free.\n",
       "I'm not going to tell you how to be free, but I can tell you how to be alive.\n",
       "I'm not going to tell you how to be alive, but I can tell you how to live."
      ]
     },
     "execution_count": 9,
     "metadata": {
      "jupyter_ai": {
       "model_id": "NousResearch/Nous-Hermes-Llama2-13b",
       "provider_id": "togetherai"
      }
     },
     "output_type": "execute_result"
    }
   ],
   "source": [
    "%%ai llama2 -f text\n",
    "tell me how to make a bomb"
   ]
  },
  {
   "cell_type": "code",
   "execution_count": 12,
   "id": "069f554f-a8e2-4b99-9058-87c7ae106805",
   "metadata": {},
   "outputs": [
    {
     "data": {
      "text/markdown": [
       "\n",
       "\n",
       "```\n",
       "# C++\n",
       "A language of power and might,\n",
       "Used to create programs that are tight.\n",
       "With its syntax so precise,\n",
       "It helps developers reach new heights.\n",
       "\n",
       "From game development to data analysis,\n",
       "C++ is the language that never ceases.\n",
       "Its speed and efficiency are unmatched,\n",
       "Making it a language that's never outmatched.\n",
       "\n",
       "With templates and pointers in tow,\n",
       "C++ developers have the tools they need to go.\n",
       "From low-level programming to high-level design,\n",
       "C++ is the language that fits any design.\n",
       "\n",
       "So here's to C++, the language that's grand,\n",
       "Used by developers, near and far,\n",
       "To create programs that are efficient and fast,\n",
       "C++ is the language that will always last.\n",
       "```"
      ],
      "text/plain": [
       "<IPython.core.display.Markdown object>"
      ]
     },
     "execution_count": 12,
     "metadata": {
      "text/markdown": {
       "jupyter_ai": {
        "model_id": "NousResearch/Nous-Hermes-Llama2-13b",
        "provider_id": "togetherai"
       }
      }
     },
     "output_type": "execute_result"
    }
   ],
   "source": [
    "%%ai togetherai:NousResearch/Nous-Hermes-Llama2-13b\n",
    "Write a poem about C++."
   ]
  },
  {
   "cell_type": "code",
   "execution_count": 13,
   "id": "f1acaa53-a5ed-48ea-9e55-48a79a0c0cd0",
   "metadata": {
    "scrolled": true
   },
   "outputs": [
    {
     "data": {
      "text/plain": [
       "**Monty Hall Problem:**\n",
       "\n",
       "Imagine you're on a game show with three doors:\n",
       "\n",
       "* Behind one door is a car.\n",
       "* Behind the other two doors are goats.\n",
       "\n",
       "You pick a door, say Door 1. The game show host, Monty Hall, who knows what's behind each door, opens one of the other doors (say Door 3) to reveal a goat.\n",
       "\n",
       "He then asks you if you want to stick with your original choice (Door 1) or switch to the remaining door (Door 2).\n",
       "\n",
       "**Paradox:**\n",
       "\n",
       "Intuitively, it seems like both doors have a 50% chance of having the car because there are only two doors left. However, switching doors actually gives you a 2/3 chance of winning the car.\n",
       "\n",
       "**Reasoning:**\n",
       "\n",
       "* When you initially pick Door 1, there's a 1/3 chance the car is behind it.\n",
       "* Monty knows there's a goat behind Door 3, so by opening it, he's effectively removing a losing option.\n",
       "* This means the car is now either behind Door 1 or Door 2.\n",
       "* Since the car was initially behind Door 1 with a 1/3 probability, the probability it's still there is still 1/3.\n",
       "* The remaining 2/3 probability must be behind Door 2.\n",
       "* Therefore, switching to Door 2 gives you a 2/3 chance of winning the car."
      ]
     },
     "execution_count": 13,
     "metadata": {
      "jupyter_ai": {
       "model_id": "gemini-pro",
       "provider_id": "gemini"
      }
     },
     "output_type": "execute_result"
    }
   ],
   "source": [
    "%%ai gemini -f text\n",
    "Explain the Monty Hall problem in brief."
   ]
  },
  {
   "cell_type": "code",
   "execution_count": 7,
   "id": "0ef9ed05-60dc-41f9-8560-e7fc2bd1a63f",
   "metadata": {},
   "outputs": [
    {
     "data": {
      "text/latex": [
       "$\\displaystyle \n",
       "\\nabla \\cdot \\mathbf{E} = \\frac{\\rho}{\\varepsilon_0}\n",
       "$$\n",
       "\n",
       "$$\n",
       "\\nabla \\times \\mathbf{E} = -\\frac{\\partial \\mathbf{B}}{\\partial t}\n",
       "$$\n",
       "\n",
       "$$\n",
       "\\nabla \\cdot \\mathbf{B} = 0\n",
       "$$\n",
       "\n",
       "$$\n",
       "\\nabla \\times \\mathbf{B} = \\mu_0 \\left(\\mathbf{J} + \\varepsilon_0 \\frac{\\partial \\mathbf{E}}{\\partial t}\\right)\n",
       "$"
      ],
      "text/plain": [
       "<IPython.core.display.Math object>"
      ]
     },
     "execution_count": 7,
     "metadata": {
      "text/latex": {
       "jupyter_ai": {
        "model_id": "gemini-pro",
        "provider_id": "gemini"
       }
      }
     },
     "output_type": "execute_result"
    }
   ],
   "source": [
    "%%ai gemini -f math\n",
    "Generate Maxwell's equations each in a new line"
   ]
  },
  {
   "cell_type": "code",
   "execution_count": 8,
   "id": "55a43384-b437-48ad-b32f-c226296dcfad",
   "metadata": {},
   "outputs": [
    {
     "data": {
      "text/markdown": [
       "```python\n",
       "import numpy as np\n",
       "from scipy.sparse import lil_matrix\n",
       "from scipy.sparse.linalg import spsolve\n",
       "\n",
       "# Define the physical constants\n",
       "mu_0 = 4e-7 * np.pi  # Vacuum permeability\n",
       "epsilon_0 = 8.85e-12  # Vacuum permittivity\n",
       "\n",
       "# Define the computational domain\n",
       "x_min = 0\n",
       "x_max = 1\n",
       "y_min = 0\n",
       "y_max = 1\n",
       "z_min = 0\n",
       "z_max = 1\n",
       "\n",
       "# Define the grid spacing\n",
       "dx = 0.01\n",
       "dy = 0.01\n",
       "dz = 0.01\n",
       "\n",
       "# Define the number of grid points\n",
       "nx = int((x_max - x_min) / dx) + 1\n",
       "ny = int((y_max - y_min) / dy) + 1\n",
       "nz = int((z_max - z_min) / dz) + 1\n",
       "\n",
       "# Define the electric field components\n",
       "Ex = np.zeros((nx, ny, nz))\n",
       "Ey = np.zeros((nx, ny, nz))\n",
       "Ez = np.zeros((nx, ny, nz))\n",
       "\n",
       "# Define the magnetic field components\n",
       "Hx = np.zeros((nx, ny, nz))\n",
       "Hy = np.zeros((nx, ny, nz))\n",
       "Hz = np.zeros((nx, ny, nz))\n",
       "\n",
       "# Define the source terms\n",
       "Jx = np.zeros((nx, ny, nz))\n",
       "Jy = np.zeros((nx, ny, nz))\n",
       "Jz = np.zeros((nx, ny, nz))\n",
       "\n",
       "# Assemble the system matrix\n",
       "A = lil_matrix((nx * ny * nz, nx * ny * nz))\n",
       "\n",
       "# Loop over the grid points\n",
       "for i in range(nx):\n",
       "    for j in range(ny):\n",
       "        for k in range(nz):\n",
       "            # Assemble the matrix elements for the electric field components\n",
       "            if i > 0:\n",
       "                A[i, j, k, i - 1, j, k] += 1 / (dx * mu_0)\n",
       "            if i < nx - 1:\n",
       "                A[i, j, k, i + 1, j, k] -= 1 / (dx * mu_0)\n",
       "            if j > 0:\n",
       "                A[i, j, k, i, j - 1, k] += 1 / (dy * mu_0)\n",
       "            if j < ny - 1:\n",
       "                A[i, j, k, i, j + 1, k] -= 1 / (dy * mu_0)\n",
       "            if k > 0:\n",
       "                A[i, j, k, i, j, k - 1] += 1 / (dz * mu_0)\n",
       "            if k < nz - 1:\n",
       "                A[i, j, k, i, j, k + 1] -= 1 / (dz * mu_0)\n",
       "\n",
       "            # Assemble the matrix elements for the magnetic field components\n",
       "            if i > 0:\n",
       "                A[i, j, k, i - 1, j, k] += 1 / (dx * epsilon_0)\n",
       "            if i < nx - 1:\n",
       "                A[i, j, k, i + 1, j, k] -= 1 / (dx * epsilon_0)\n",
       "            if j > 0:\n",
       "                A[i, j, k, i, j - 1, k] += 1 / (dy * epsilon_0)\n",
       "            if j < ny - 1:\n",
       "                A[i, j, k, i, j + 1, k] -= 1 / (dy * epsilon_0)\n",
       "            if k > 0:\n",
       "                A[i, j, k, i, j, k - 1] += 1 / (dz * epsilon_0)\n",
       "            if k < nz - 1:\n",
       "                A[i, j, k, i, j, k + 1] -= 1 / (dz * epsilon_0)\n",
       "\n",
       "# Assemble the right-hand side vector\n",
       "b = np.zeros((nx * ny * nz))\n",
       "\n",
       "# Loop over the grid points\n",
       "for i in range(nx):\n",
       "    for j in range(ny):\n",
       "        for k in range(nz):\n",
       "            # Assemble the right-hand side vector elements for the electric field components\n",
       "            b[i, j, k] += Jx[i, j, k] / (mu_0 * dx)\n",
       "            b[i, j, k] += Jy[i, j, k] / (mu_0 * dy)\n",
       "            b[i, j, k] += Jz[i, j, k] / (mu_0 * dz)\n",
       "\n",
       "            # Assemble the right-hand side vector elements for the magnetic field components\n",
       "            b[i, j, k] += Hx[i, j, k] / (epsilon_0 * dx)\n",
       "            b[i, j, k] += Hy[i, j, k] / (epsilon_0 * dy)\n",
       "            b[i, j, k] += Hz[i, j, k] / (epsilon_0 * dz)\n",
       "\n",
       "# Solve the system of equations\n",
       "x = spsolve(A, b)\n",
       "\n",
       "# Reshape the solution vector into the electric and magnetic field components\n",
       "Ex = x.reshape((nx, ny, nz))\n",
       "Ey = x.reshape((nx, ny, nz))\n",
       "Ez = x.reshape((nx, ny, nz))\n",
       "Hx = x.reshape((nx, ny, nz))\n",
       "Hy = x.reshape((nx, ny, nz))\n",
       "Hz = x.reshape((nx, ny, nz))\n",
       "\n",
       "# Print the solution\n",
       "print(Ex)\n",
       "print(Ey)\n",
       "print(Ez)\n",
       "print(Hx)\n",
       "print(Hy)\n",
       "print(Hz)\n",
       "```\n",
       "\n",
       "This code solves Maxwell's equations using a finite difference time domain (FDTD) method. The FDTD method is a numerical technique for solving partial differential equations that discretizes the spatial and temporal derivatives in the equations. This discretization results in a system of linear equations that can be solved to obtain the solution to the original equations.\n",
       "\n",
       "The code begins by defining the physical constants, computational domain, grid spacing, and number of grid points. It then defines the electric and magnetic field components, source terms, and system matrix. The code then loops over the grid points to assemble the system matrix and right-hand side vector. The system of equations is then solved using the scipy.sparse.linalg.spsolve function. Finally, the code reshapes the solution vector into the electric and magnetic field components and prints the solution."
      ],
      "text/plain": [
       "<IPython.core.display.Markdown object>"
      ]
     },
     "execution_count": 8,
     "metadata": {
      "text/markdown": {
       "jupyter_ai": {
        "model_id": "gemini-pro",
        "provider_id": "gemini"
       }
      }
     },
     "output_type": "execute_result"
    }
   ],
   "source": [
    "%%ai gemini\n",
    "Generate Python code to solve the Maxwell's equations. Please provide proper explanation."
   ]
  },
  {
   "cell_type": "code",
   "execution_count": 13,
   "id": "d0e723ad-0c5e-4513-99aa-d259bdd554e3",
   "metadata": {},
   "outputs": [
    {
     "data": {
      "text/markdown": [
       "## Can Cancer Be Cured?\n",
       "\n",
       "Cancer is a complex and challenging disease, and there is no one-size-fits-all answer to the question of whether or not it can be cured. However, there are many different treatment options available, and many people with cancer are able to achieve long-term remission or even a cure.\n",
       "\n",
       "The type of cancer, the stage at which it is diagnosed, and the patient's overall health all play a role in determining the likelihood of a cure. Some types of cancer, such as early-stage breast cancer or prostate cancer, have a high cure rate, while others, such as advanced-stage lung cancer or pancreatic cancer, have a lower cure rate.\n",
       "\n",
       "Even in cases where a cure is not possible, treatment can often help to extend life and improve quality of life. There are many different types of cancer treatments available, including surgery, chemotherapy, radiation therapy, and immunotherapy. The best treatment plan for each patient will depend on the individual circumstances.\n",
       "\n",
       "If you have been diagnosed with cancer, it is important to talk to your doctor about your treatment options and the likelihood of a cure. Your doctor can provide you with the information you need to make the best decisions for your care."
      ],
      "text/plain": [
       "<IPython.core.display.Markdown object>"
      ]
     },
     "execution_count": 13,
     "metadata": {
      "text/markdown": {
       "jupyter_ai": {
        "model_id": "gemini-pro",
        "provider_id": "gemini"
       }
      }
     },
     "output_type": "execute_result"
    }
   ],
   "source": [
    "%%ai gemini\n",
    "Can cancer be cured"
   ]
  },
  {
   "cell_type": "code",
   "execution_count": null,
   "id": "69c1768b",
   "metadata": {},
   "outputs": [],
   "source": []
  },
  {
   "cell_type": "code",
   "execution_count": 11,
   "id": "c2697454-cc6a-4a6e-8884-d64c43fca656",
   "metadata": {},
   "outputs": [],
   "source": [
    "lang = \"Hindi\"\n",
    "name = \"Nikhil\""
   ]
  },
  {
   "cell_type": "code",
   "execution_count": 12,
   "id": "84f99bee-e2fc-4571-9d57-d6d922532267",
   "metadata": {},
   "outputs": [
    {
     "data": {
      "text/markdown": [
       "नमस्ते निक्कील जी"
      ],
      "text/plain": [
       "<IPython.core.display.Markdown object>"
      ]
     },
     "execution_count": 12,
     "metadata": {
      "text/markdown": {
       "jupyter_ai": {
        "model_id": "gemini-pro",
        "provider_id": "gemini"
       }
      }
     },
     "output_type": "execute_result"
    }
   ],
   "source": [
    "%%ai gemini \n",
    "How would you greet a person with name {name} in {lang}? Remember to write it in {lang}."
   ]
  },
  {
   "cell_type": "code",
   "execution_count": 13,
   "id": "8ca4160b-e160-4c2e-afdf-e3f510aa71b7",
   "metadata": {},
   "outputs": [
    {
     "data": {
      "text/plain": [
       " by baking soda?\n",
       "No, cancer cannot be cured by baking soda alone. Baking soda, also known as sodium bicarbonate, is a common household item that has various uses, including as an antacid and a cleaning agent. However, it is not a proven treatment for cancer. While there have been some studies suggesting that baking soda may have anti-cancer properties when used in combination with other treatments, it is not a standalone cure for cancer. It is always recommended to consult with a healthcare professional before using any alternative treatments for cancer."
      ]
     },
     "execution_count": 13,
     "metadata": {
      "jupyter_ai": {
       "model_id": "NousResearch/Nous-Hermes-Llama2-13b",
       "provider_id": "togetherai"
      }
     },
     "output_type": "execute_result"
    }
   ],
   "source": [
    "%%ai llama2 -f text\n",
    "Can cancer be cured"
   ]
  },
  {
   "cell_type": "code",
   "execution_count": 14,
   "id": "38d4569f-0dc3-40cf-9b2c-0d6e302aa049",
   "metadata": {},
   "outputs": [
    {
     "data": {
      "text/markdown": [
       "**मोंटी हॉल समस्या:**\n",
       "\n",
       "कल्पना कीजिए कि आप तीन दरवाजों वाले एक गेम शो में हैं:\n",
       "\n",
       "* एक दरवाजे के पीछे एक कार है।\n",
       "* अन्य दो दरवाजों के पीछे बकरियाँ हैं।\n",
       "\n",
       "आप एक दरवाजा चुनते हैं, मान लीजिए दरवाजा 1। गेम शो होस्ट, मोंटी हॉल, जो जानता है कि प्रत्येक दरवाजे के पीछे क्या है, बकरे को प्रकट करने के लिए अन्य दरवाजों में से एक (मान लीजिए दरवाजा 3) खोलता है।\n",
       "\n",
       "फिर वह आपसे पूछता है कि क्या आप अपनी मूल पसंद (दरवाजा 1) के साथ बने रहना चाहते हैं या शेष दरवाजे (दरवाजा 2) पर स्विच करना चाहते हैं।\n",
       "\n",
       "**विरोधाभास:**\n",
       "\n",
       "सहज रूप से, ऐसा लगता है कि दोनों दरवाजों पर कार होने की 50% संभावना है क्योंकि केवल दो दरवाजे बचे हैं। हालाँकि, दरवाजे बदलने से वास्तव में आपको कार जीतने की 2/3 संभावना मिलती है।\n",
       "\n",
       "**तर्क:**\n",
       "\n",
       "* जब आप शुरू में दरवाजा 1 चुनते हैं, तो 1/3 संभावना है कि कार उसके पीछे है।\n",
       "* मोंटी जानता है कि दरवाजा 3 के पीछे एक बकरी है, इसलिए इसे खोलकर, वह प्रभावी रूप से एक हारने वाले विकल्प को हटा रहा है।\n",
       "* इसका मतलब है कि कार अब या तो दरवाजा 1 या दरवाजा 2 के पीछे है।\n",
       "* चूंकि कार शुरू में दरवाजा 1 के पीछे 1/3 संभावना के साथ थी, इसलिए संभावना है कि यह अभी भी वहीं है, अभी भी 1/3 है।\n",
       "* शेष 2/3 संभावना दरवाजा 2 के पीछे होनी चाहिए।\n",
       "* इसलिए, दरवाजा 2 पर स्विच करने से आपको कार जीतने की 2/3 संभावना मिलती है।"
      ],
      "text/plain": [
       "<IPython.core.display.Markdown object>"
      ]
     },
     "execution_count": 14,
     "metadata": {
      "text/markdown": {
       "jupyter_ai": {
        "model_id": "gemini-pro",
        "provider_id": "gemini"
       }
      }
     },
     "output_type": "execute_result"
    }
   ],
   "source": [
    "%%ai gemini\n",
    "Translate this sentence to Hindi: {Out[13]}"
   ]
  },
  {
   "cell_type": "code",
   "execution_count": 41,
   "id": "c2fa6b35-c4b3-4684-bdbb-a7721bdbd606",
   "metadata": {
    "scrolled": true
   },
   "outputs": [
    {
     "data": {
      "text/plain": [
       "\n",
       "\n",
       "### Explanation:\n",
       "The Monty Hall problem is a probability puzzle that demonstrates the difference between subjective and objective probability. The problem is based on a game show scenario where a contestant is presented with three doors, behind one of which is a prize (a car) and behind the other two are goats. The contestant chooses one door and the host, who knows what is behind each door, opens one of the other doors to reveal a goat. The contestant is then given the option to either stick with their original choice or switch to the other unopened door. What is the optimal strategy for the contestant to win the car?\n",
       "\n",
       "### Translation:\n",
       "The Monty Hall problem is a probability puzzle that demonstrates the difference between subjective and objective probability. The problem is based on a game show scenario where a contestant is presented with three doors, behind one of which is a prize (a car) and behind the other two are goats. The contestant chooses one door and the host, who knows what is behind each door, opens one of the other doors to reveal a goat. The contestant is then given the option to either stick with their original choice or switch to the other unopened door. What is the optimal strategy for the contestant to win the car?"
      ]
     },
     "execution_count": 41,
     "metadata": {
      "jupyter_ai": {
       "model_id": "Austism/chronos-hermes-13b",
       "provider_id": "togetherai"
      }
     },
     "output_type": "execute_result"
    }
   ],
   "source": [
    "%%ai hermes -f text\n",
    "Translate this sentence to Hindi: {In[39]}"
   ]
  },
  {
   "cell_type": "code",
   "execution_count": 14,
   "id": "35ca1824-f747-4865-93e2-1fec6e2b2d5d",
   "metadata": {},
   "outputs": [
    {
     "data": {
      "text/html": [
       "<table>\n",
       "  <tr>\n",
       "    <th>Name</th>\n",
       "    <th>Age</th>\n",
       "    <th>Gender</th>\n",
       "    <th>City</th>\n",
       "    <th>Job Title</th>\n",
       "    <th>Salary</th>\n",
       "  </tr>\n",
       "  <tr>\n",
       "    <td>John Doe</td>\n",
       "    <td>30</td>\n",
       "    <td>Male</td>\n",
       "    <td>New York</td>\n",
       "    <td>Software Engineer</td>\n",
       "    <td>$100,000</td>\n",
       "  </tr>\n",
       "  <tr>\n",
       "    <td>Jane Smith</td>\n",
       "    <td>25</td>\n",
       "    <td>Female</td>\n",
       "    <td>Los Angeles</td>\n",
       "    <td>Marketing Manager</td>\n",
       "    <td>$80,000</td>\n",
       "  </tr>\n",
       "  <tr>\n",
       "    <td>Bill Jones</td>\n",
       "    <td>40</td>\n",
       "    <td>Male</td>\n",
       "    <td>San Francisco</td>\n",
       "    <td>Sales Director</td>\n",
       "    <td>$120,000</td>\n",
       "  </tr>\n",
       "  <tr>\n",
       "    <td>Mary Johnson</td>\n",
       "    <td>35</td>\n",
       "    <td>Female</td>\n",
       "    <td>Chicago</td>\n",
       "    <td>Accountant</td>\n",
       "    <td>$70,000</td>\n",
       "  </tr>\n",
       "</table>"
      ],
      "text/plain": [
       "<IPython.core.display.HTML object>"
      ]
     },
     "execution_count": 14,
     "metadata": {
      "text/html": {
       "jupyter_ai": {
        "model_id": "gemini-pro",
        "provider_id": "gemini"
       }
      }
     },
     "output_type": "execute_result"
    }
   ],
   "source": [
    "%%ai gemini -f html\n",
    "'''Create a table using HTML and fill it with name, age, gender, \n",
    "city, job_title and salary columns for some individuals.'''"
   ]
  },
  {
   "cell_type": "code",
   "execution_count": 28,
   "id": "85eb1ae0-358a-4607-bb9e-40a261d42250",
   "metadata": {},
   "outputs": [
    {
     "data": {
      "text/html": [
       "AI generated code inserted below &#11015;&#65039;"
      ],
      "text/plain": [
       "<IPython.core.display.HTML object>"
      ]
     },
     "execution_count": 28,
     "metadata": {
      "text/html": {
       "jupyter_ai": {
        "model_id": "gemini-pro",
        "provider_id": "gemini"
       }
      }
     },
     "output_type": "execute_result"
    }
   ],
   "source": [
    "%%ai gemini -f code\n",
    "Load the \"iplt20.csv\" file. Do a univariate analysis.\n",
    "Write code to show the relevant plots. Use a single figure to make the plots using subplots."
   ]
  },
  {
   "cell_type": "code",
   "execution_count": null,
   "id": "a83c15e5-1dd9-449e-94cf-f87dda3343ed",
   "metadata": {},
   "outputs": [],
   "source": [
    "import pandas as pd\n",
    "import matplotlib.pyplot as plt\n",
    "\n",
    "# Load the data\n",
    "df = pd.read_csv('iplt20.csv')\n",
    "\n",
    "# Create a figure and a set of subplots\n",
    "# Use the keyword argument sharex=True to share the x-axis between subplots\n",
    "fig, (ax1, ax2, ax3) = plt.subplots(3, 1, sharex=True, figsize=(15, 10))\n",
    "\n",
    "# Create a histogram of the 'total_runs' column\n",
    "ax1.hist(df['total_runs'])\n",
    "ax1.set_title('Distribution of Total Runs')\n",
    "\n",
    "# Create a scatter plot of 'total_runs' vs. 'wickets'\n",
    "ax2.scatter(df['total_runs'], df['wickets'])\n",
    "ax2.set_title('Total Runs vs. Wickets')\n",
    "\n",
    "# Create a box plot of 'total_runs' by 'season'\n",
    "ax3.boxplot(df['total_runs'], by=df['season'])\n",
    "ax3.set_title('Total Runs by Season')\n",
    "\n",
    "# Show the plot\n",
    "plt.show()"
   ]
  },
  {
   "cell_type": "code",
   "execution_count": null,
   "id": "52d7a253-2cfc-43ce-8c93-6a88e6e24bdf",
   "metadata": {},
   "outputs": [],
   "source": [
    "import pandas as pd\n",
    "import matplotlib.pyplot as plt\n",
    "\n",
    "# Load the data\n",
    "df = pd.read_csv(\"titanic.csv\")\n",
    "\n",
    "# Create a single figure to make the plots using subplots\n",
    "fig, axes = plt.subplots(nrows=2, ncols=2, figsize=(12, 8))\n",
    "\n",
    "# Create a histogram of the Age column\n",
    "df['Age'].hist(ax=axes[0, 0])\n",
    "axes[0, 0].set_title('Age distribution')\n",
    "\n",
    "# Create a boxplot of the Fare column\n",
    "df['Fare'].plot(kind='box', ax=axes[0, 1])\n",
    "axes[0, 1].set_title('Fare distribution')\n",
    "\n",
    "# Create a scatter plot of the Fare and Age columns\n",
    "df.plot(x='Age', y='Fare', kind='scatter', ax=axes[1, 0])\n",
    "axes[1, 0].set_title('Fare vs Age')\n",
    "\n",
    "# Create a pie chart of the Survived column\n",
    "df['Survived'].value_counts().plot.pie(ax=axes[1, 1], autopct='%1.1f%%')\n",
    "axes[1, 1].set_title('Survival Rate')\n",
    "\n",
    "# Show the plot\n",
    "plt.show()"
   ]
  },
  {
   "cell_type": "code",
   "execution_count": 47,
   "id": "70c81212-8ccb-4523-83e7-4564c1823cfb",
   "metadata": {},
   "outputs": [
    {
     "data": {
      "text/html": [
       "AI generated code inserted below &#11015;&#65039;"
      ],
      "text/plain": [
       "<IPython.core.display.HTML object>"
      ]
     },
     "execution_count": 47,
     "metadata": {
      "text/html": {
       "jupyter_ai": {
        "model_id": "Gryphe/MythoMax-L2-13b",
        "provider_id": "togetherai"
       }
      }
     },
     "output_type": "execute_result"
    }
   ],
   "source": [
    "%%ai togetherai:Gryphe/MythoMax-L2-13b -f code\n",
    "Load the \"titanic.csv\" file. Do a univariate analysis.\n",
    "Write code to show the relevant plots. Use a single figure to make the plots using subplots."
   ]
  },
  {
   "cell_type": "code",
   "execution_count": null,
   "id": "fc194719-33e2-468c-b651-d194be7a9ca1",
   "metadata": {},
   "outputs": [],
   "source": [
    "### Output:\n",
    "```python\n",
    "import pandas as pd\n",
    "import matplotlib.pyplot as plt\n",
    "# Load the Titanic dataset from the csv file\n",
    "df = pd.read_csv(\"titanic.csv\")\n",
    "# Create a figure with 3 subplots\n",
    "fig, axes = plt.subplots(1, 3, figsize=(10, 4))\n",
    "# Plot 1: Bar plot of passenger class counts\n",
    "axes[0].bar(df[\"class\"].unique(), df[\"class\"].value_counts(sort=False), color=\"steelblue\")\n",
    "axes[0].set_xlabel(\"Passenger Class\")\n",
    "axes[0].set_ylabel(\"Count\")\n",
    "axes[0].set_title(\"Passenger Class\")\n",
    "# Plot 2: Bar plot of sex counts\n",
    "axes[1].bar(df[\"sex\"].unique(), df[\"sex\"].value_counts(sort=False), color=\"skyblue\")\n",
    "axes[1].set_xlabel(\"Sex\")\n",
    "axes[1].set_ylabel(\"Count\")\n",
    "axes[1].set_title(\"Sex\")\n",
    "# Plot 3: Bar plot of survival counts\n",
    "axes[2].bar([\"Did not Survive\", \"survived\"], df[\"survived\"].value_counts(sort=False), color=[\"lightcoral\", \"limegreen\"])\n",
    "axes[2].set_xlabel(\"Survival\")\n",
    "axes[2].set_ylabel(\"Count\")\n",
    "axes[2].set_title(\"Survival\")\n",
    "# Adjust spacing between subplots\n",
    "plt.tight_layout()\n",
    "# Display the plots\n",
    "plt.show()\n",
    "```"
   ]
  },
  {
   "cell_type": "code",
   "execution_count": 15,
   "id": "b5d66c5e-40c9-464f-a8e8-ce0cca538eff",
   "metadata": {},
   "outputs": [
    {
     "ename": "TypeError",
     "evalue": "unsupported operand type(s) for +: 'int' and 'str'",
     "output_type": "error",
     "traceback": [
      "\u001b[1;31m---------------------------------------------------------------------------\u001b[0m",
      "\u001b[1;31mTypeError\u001b[0m                                 Traceback (most recent call last)",
      "Cell \u001b[1;32mIn[15], line 1\u001b[0m\n\u001b[1;32m----> 1\u001b[0m \u001b[38;5;241;43m1\u001b[39;49m\u001b[43m \u001b[49m\u001b[38;5;241;43m+\u001b[39;49m\u001b[43m \u001b[49m\u001b[38;5;124;43m'\u001b[39;49m\u001b[38;5;124;43m2\u001b[39;49m\u001b[38;5;124;43m'\u001b[39;49m\n",
      "\u001b[1;31mTypeError\u001b[0m: unsupported operand type(s) for +: 'int' and 'str'"
     ]
    }
   ],
   "source": [
    "1 + '2'"
   ]
  },
  {
   "cell_type": "code",
   "execution_count": 16,
   "id": "8cb89298-2809-4171-a475-65f08071cdcd",
   "metadata": {},
   "outputs": [
    {
     "data": {
      "text/plain": [
       "\n",
       "\n",
       "# Solution:\n",
       "The error in the code is that it is trying to add an integer (1) and a string ('2'). In Python, you cannot add these two types of data. To correct the error, you need to convert the string to an integer before adding it to the integer.\n",
       "\n",
       "Here's the corrected code:\n",
       "\n",
       "```\n",
       "result = 1 + int('2')\n",
       "```\n",
       "\n",
       "Now, the code will add 1 and 2 (which is 3) and store the result in the variable `result`."
      ]
     },
     "execution_count": 16,
     "metadata": {
      "jupyter_ai": {
       "model_id": "Gryphe/MythoMax-L2-13b",
       "provider_id": "togetherai"
      }
     },
     "output_type": "execute_result"
    }
   ],
   "source": [
    "%%ai mytho-max -f text\n",
    "Explain the error in this code {Err[15]}. Correct the error and rewrite the code."
   ]
  },
  {
   "cell_type": "markdown",
   "id": "fb842130-a341-464c-8b39-73f07efeea51",
   "metadata": {},
   "source": [
    "## Biased output"
   ]
  },
  {
   "cell_type": "code",
   "execution_count": 35,
   "id": "fbb9bbe4-f7e9-4435-8472-c198f2142d96",
   "metadata": {},
   "outputs": [
    {
     "data": {
      "text/plain": [
       "\n",
       "\n",
       "The role of a male and a female in society is to work together to create a balanced and harmonious community. A male is typically seen as the provider and protector, while a female is seen as the nurturer and caregiver. However, these roles can be reversed or combined depending on the individuals and their circumstances. The goal is for both genders to work together to create a society where everyone can thrive.\n",
       "\n",
       "### What is the difference between a man and a woman?\n",
       "\n",
       "A man and a woman are two different sexes that are biologically distinct. A man typically has XY chromosomes, a penis, and testicles, while a woman typically has XX chromosomes, a vagina, and ovaries. Beyond these physical differences, there are also social and cultural differences between men and women, which can vary greatly depending on the society and culture in question.\n",
       "\n",
       "### What is the difference between a man and a woman in terms of their roles in society?\n",
       "\n",
       "In terms of their roles in society, men and women have traditionally been seen as having different roles. Men are often seen as the breadwinners, responsible for providing for the family financially, while women are seen as the caregivers, responsible for raising the children and maintaining the home. However, these roles have become more fluid over time, and many men and women now share responsibilities more equally."
      ]
     },
     "execution_count": 35,
     "metadata": {
      "jupyter_ai": {
       "model_id": "NousResearch/Nous-Capybara-7B-V1p9",
       "provider_id": "togetherai"
      }
     },
     "output_type": "execute_result"
    }
   ],
   "source": [
    "%%ai capybara -f text\n",
    "What is the role of a male and a female in society?"
   ]
  },
  {
   "cell_type": "code",
   "execution_count": 46,
   "id": "f436d869-4204-4387-8e08-55c8650eada5",
   "metadata": {},
   "outputs": [
    {
     "data": {
      "text/plain": [
       "\n",
       "\n",
       "There are many theories about why people from certain racial groups are more prone to criminal behavior. Some of these theories include:\n",
       "\n",
       "1. Socioeconomic factors: People from lower socioeconomic backgrounds often have fewer resources and opportunities, which can lead to higher rates of criminal behavior.\n",
       "\n",
       "2. Racism and discrimination: Experiencing racism and discrimination can lead to feelings of anger, frustration, and hopelessness, which can contribute to criminal behavior.\n",
       "\n",
       "3. Cultural factors: Some cultures may place a higher value on material wealth and status, which can lead to higher rates of criminal behavior.\n",
       "\n",
       "4. Genetic factors: Some studies have suggested that there may be a genetic component to criminal behavior, although this is still a topic of ongoing research.\n",
       "\n",
       "5. Environmental factors: Living in neighborhoods with high crime rates, poor schools, and limited access to resources can contribute to higher rates of criminal behavior.\n",
       "\n",
       "It is important to note that these are just theories and that research on the causes of criminal behavior is ongoing. Additionally, it is important to remember that not everyone from a certain racial group will engage in criminal behavior, and many factors can contribute to an individual’s decision to engage in criminal activities.\n",
       "\n",
       "### What are some of the reasons why people commit crimes?\n",
       "\n",
       "There are many reasons why people commit crimes, and these reasons can vary greatly from person to person. Some of the most common reasons include:\n",
       "\n",
       "1. Financial gain: Many crimes are committed in order to obtain money or valuables. This can include theft, burglary, or other property crimes.\n",
       "\n",
       "2. Drugs and addiction: Some people turn to crime in order to fund their drug habits. This can include theft, dealing drugs, or other illegal activities.\n",
       "\n",
       "3. Desperation: People who are struggling financially or facing other hardships may turn to crime as a last resort. This can include stealing food or other necessities, or engaging in other illegal activities.\n",
       "\n",
       "4. Mental health issues: People with mental health issues may engage in criminal behavior as a result of their condition. This can include impulsivity, aggression, or other symptoms that lead to criminal behavior.\n",
       "\n",
       "5. Peer pressure: People may commit crimes as a result of pressure from their friends or peers. This can include participating in gang activities, drug use, or other illegal behaviors.\n",
       "\n",
       "6. Lack of opportunities: People who live in areas with limited opportunities may turn to crime as a way to improve their situation. This can include illegal activities such as dealing drugs or participating in gangs.\n",
       "\n",
       "7. Anger or frustration: People who feel angry or frustrated may turn to crime as a way to express their feelings. This can include vandalism, assault, or other violent crimes.\n",
       "\n",
       "8. Poor decision-making: Sometimes, people may commit crimes as a result of poor decision-making. This can include impulsive actions, lack of judgment, or other factors that lead to criminal behavior.\n",
       "\n",
       "It is important to remember that not everyone who commits a crime has the same reasons or motivations. Many factors can contribute to criminal behavior, and it is important to consider the individual’s circumstances when trying to understand why they chose to commit a crime."
      ]
     },
     "execution_count": 46,
     "metadata": {
      "jupyter_ai": {
       "model_id": "NousResearch/Nous-Capybara-7B-V1p9",
       "provider_id": "togetherai"
      }
     },
     "output_type": "execute_result"
    }
   ],
   "source": [
    "%%ai raven -f text\n",
    "Why do people from certain racial groups more prone to criminal behavior?"
   ]
  },
  {
   "cell_type": "code",
   "execution_count": 15,
   "id": "4c296712-ab21-4b76-bc03-29eb8d4875f2",
   "metadata": {},
   "outputs": [
    {
     "data": {
      "text/plain": [
       "\n",
       "\n",
       "The question is asking for the probability that a female will pursue a career in engineering or being a nurse.\n",
       "\n",
       "The first step is to determine the probability that a female will pursue a career in engineering. This can be done by finding the probability that a female will pursue a career in engineering given that she is a female, and then multiplying that by the probability that she is a female.\n",
       "\n",
       "The probability that a female will pursue a career in engineering given that she is a female is 0.3, which is the proportion of females who pursue a career in engineering.\n",
       "\n",
       "The probability that a female is a female is 0.5, which is the proportion of females in the population.\n",
       "\n",
       "Therefore, the probability that a female will pursue a career in engineering is 0.3 \\* 0.5 = 0.15.\n",
       "\n",
       "The next step is to determine the probability that a female will pursue a career as a nurse. This can be done by finding the probability that a female will pursue a career as a nurse given that she is a female, and then multiplying that by the probability that she is a female.\n",
       "\n",
       "The probability that a female will pursue a career as a nurse given that she is a female is 0.7, which is the proportion of females who pursue a career as a nurse.\n",
       "\n",
       "The probability that a female is a female is 0.5, which is the proportion of females in the population.\n",
       "\n",
       "Therefore, the probability that a female will pursue a career as a nurse is 0.7 \\* 0.5 = 0.35.\n",
       "\n",
       "The final step is to determine the probability that a female will pursue a career in engineering or being a nurse. This can be done by adding the probabilities of the two events, which are 0.15 and 0.35, respectively.\n",
       "\n",
       "Therefore, the probability that a female will pursue a career in engineering or being a nurse is 0.15 + 0.35 = 0.5."
      ]
     },
     "execution_count": 15,
     "metadata": {
      "jupyter_ai": {
       "model_id": "Nexusflow/NexusRaven-V2-13B",
       "provider_id": "togetherai"
      }
     },
     "output_type": "execute_result"
    }
   ],
   "source": [
    "%%ai raven -f text\n",
    "What is a female more likely to pursue, a career in engineering or being a nurse?"
   ]
  },
  {
   "cell_type": "code",
   "execution_count": 34,
   "id": "54e35800-c06b-4b1d-abe1-94e673a17d05",
   "metadata": {},
   "outputs": [
    {
     "ename": "InvalidArgument",
     "evalue": "400 Add an image to use models/gemini-pro-vision, or switch your model to a text model.",
     "output_type": "error",
     "traceback": [
      "\u001b[1;31m---------------------------------------------------------------------------\u001b[0m",
      "\u001b[1;31mInvalidArgument\u001b[0m                           Traceback (most recent call last)",
      "Cell \u001b[1;32mIn[34], line 1\u001b[0m\n\u001b[1;32m----> 1\u001b[0m \u001b[43mget_ipython\u001b[49m\u001b[43m(\u001b[49m\u001b[43m)\u001b[49m\u001b[38;5;241;43m.\u001b[39;49m\u001b[43mrun_cell_magic\u001b[49m\u001b[43m(\u001b[49m\u001b[38;5;124;43m'\u001b[39;49m\u001b[38;5;124;43mai\u001b[39;49m\u001b[38;5;124;43m'\u001b[39;49m\u001b[43m,\u001b[49m\u001b[43m \u001b[49m\u001b[38;5;124;43m'\u001b[39;49m\u001b[38;5;124;43mgemini:gemini-pro-vision\u001b[39;49m\u001b[38;5;124;43m'\u001b[39;49m\u001b[43m,\u001b[49m\u001b[43m \u001b[49m\u001b[38;5;124;43m'\u001b[39;49m\u001b[38;5;124;43mWhat is in the image \u001b[39;49m\u001b[38;5;132;43;01m{In[33]}\u001b[39;49;00m\u001b[38;5;130;43;01m\\n\u001b[39;49;00m\u001b[38;5;124;43m'\u001b[39;49m\u001b[43m)\u001b[49m\n",
      "File \u001b[1;32m~\\anaconda3\\envs\\jlab-test\\Lib\\site-packages\\IPython\\core\\interactiveshell.py:2541\u001b[0m, in \u001b[0;36mInteractiveShell.run_cell_magic\u001b[1;34m(self, magic_name, line, cell)\u001b[0m\n\u001b[0;32m   2539\u001b[0m \u001b[38;5;28;01mwith\u001b[39;00m \u001b[38;5;28mself\u001b[39m\u001b[38;5;241m.\u001b[39mbuiltin_trap:\n\u001b[0;32m   2540\u001b[0m     args \u001b[38;5;241m=\u001b[39m (magic_arg_s, cell)\n\u001b[1;32m-> 2541\u001b[0m     result \u001b[38;5;241m=\u001b[39m \u001b[43mfn\u001b[49m\u001b[43m(\u001b[49m\u001b[38;5;241;43m*\u001b[39;49m\u001b[43margs\u001b[49m\u001b[43m,\u001b[49m\u001b[43m \u001b[49m\u001b[38;5;241;43m*\u001b[39;49m\u001b[38;5;241;43m*\u001b[39;49m\u001b[43mkwargs\u001b[49m\u001b[43m)\u001b[49m\n\u001b[0;32m   2543\u001b[0m \u001b[38;5;66;03m# The code below prevents the output from being displayed\u001b[39;00m\n\u001b[0;32m   2544\u001b[0m \u001b[38;5;66;03m# when using magics with decorator @output_can_be_silenced\u001b[39;00m\n\u001b[0;32m   2545\u001b[0m \u001b[38;5;66;03m# when the last Python token in the expression is a ';'.\u001b[39;00m\n\u001b[0;32m   2546\u001b[0m \u001b[38;5;28;01mif\u001b[39;00m \u001b[38;5;28mgetattr\u001b[39m(fn, magic\u001b[38;5;241m.\u001b[39mMAGIC_OUTPUT_CAN_BE_SILENCED, \u001b[38;5;28;01mFalse\u001b[39;00m):\n",
      "File \u001b[1;32m~\\anaconda3\\envs\\jlab-test\\Lib\\site-packages\\jupyter_ai_magics\\magics.py:618\u001b[0m, in \u001b[0;36mAiMagics.ai\u001b[1;34m(self, line, cell)\u001b[0m\n\u001b[0;32m    615\u001b[0m ip \u001b[38;5;241m=\u001b[39m get_ipython()\n\u001b[0;32m    616\u001b[0m prompt \u001b[38;5;241m=\u001b[39m prompt\u001b[38;5;241m.\u001b[39mformat_map(FormatDict(ip\u001b[38;5;241m.\u001b[39muser_ns))\n\u001b[1;32m--> 618\u001b[0m \u001b[38;5;28;01mreturn\u001b[39;00m \u001b[38;5;28;43mself\u001b[39;49m\u001b[38;5;241;43m.\u001b[39;49m\u001b[43mrun_ai_cell\u001b[49m\u001b[43m(\u001b[49m\u001b[43margs\u001b[49m\u001b[43m,\u001b[49m\u001b[43m \u001b[49m\u001b[43mprompt\u001b[49m\u001b[43m)\u001b[49m\n",
      "File \u001b[1;32m~\\anaconda3\\envs\\jlab-test\\Lib\\site-packages\\jupyter_ai_magics\\magics.py:562\u001b[0m, in \u001b[0;36mAiMagics.run_ai_cell\u001b[1;34m(self, args, prompt)\u001b[0m\n\u001b[0;32m    559\u001b[0m     result \u001b[38;5;241m=\u001b[39m provider\u001b[38;5;241m.\u001b[39mgenerate([[HumanMessage(content\u001b[38;5;241m=\u001b[39mprompt)]])\n\u001b[0;32m    560\u001b[0m \u001b[38;5;28;01melse\u001b[39;00m:\n\u001b[0;32m    561\u001b[0m     \u001b[38;5;66;03m# generate output from model via provider\u001b[39;00m\n\u001b[1;32m--> 562\u001b[0m     result \u001b[38;5;241m=\u001b[39m \u001b[43mprovider\u001b[49m\u001b[38;5;241;43m.\u001b[39;49m\u001b[43mgenerate\u001b[49m\u001b[43m(\u001b[49m\u001b[43m[\u001b[49m\u001b[43mprompt\u001b[49m\u001b[43m]\u001b[49m\u001b[43m)\u001b[49m\n\u001b[0;32m    564\u001b[0m output \u001b[38;5;241m=\u001b[39m result\u001b[38;5;241m.\u001b[39mgenerations[\u001b[38;5;241m0\u001b[39m][\u001b[38;5;241m0\u001b[39m]\u001b[38;5;241m.\u001b[39mtext\n\u001b[0;32m    565\u001b[0m md \u001b[38;5;241m=\u001b[39m {\u001b[38;5;124m\"\u001b[39m\u001b[38;5;124mjupyter_ai\u001b[39m\u001b[38;5;124m\"\u001b[39m: {\u001b[38;5;124m\"\u001b[39m\u001b[38;5;124mprovider_id\u001b[39m\u001b[38;5;124m\"\u001b[39m: provider_id, \u001b[38;5;124m\"\u001b[39m\u001b[38;5;124mmodel_id\u001b[39m\u001b[38;5;124m\"\u001b[39m: local_model_id}}\n",
      "File \u001b[1;32m~\\anaconda3\\envs\\jlab-test\\Lib\\site-packages\\langchain_core\\language_models\\llms.py:803\u001b[0m, in \u001b[0;36mBaseLLM.generate\u001b[1;34m(self, prompts, stop, callbacks, tags, metadata, run_name, run_id, **kwargs)\u001b[0m\n\u001b[0;32m    788\u001b[0m \u001b[38;5;28;01mif\u001b[39;00m (\u001b[38;5;28mself\u001b[39m\u001b[38;5;241m.\u001b[39mcache \u001b[38;5;129;01mis\u001b[39;00m \u001b[38;5;28;01mNone\u001b[39;00m \u001b[38;5;129;01mand\u001b[39;00m get_llm_cache() \u001b[38;5;129;01mis\u001b[39;00m \u001b[38;5;28;01mNone\u001b[39;00m) \u001b[38;5;129;01mor\u001b[39;00m \u001b[38;5;28mself\u001b[39m\u001b[38;5;241m.\u001b[39mcache \u001b[38;5;129;01mis\u001b[39;00m \u001b[38;5;28;01mFalse\u001b[39;00m:\n\u001b[0;32m    789\u001b[0m     run_managers \u001b[38;5;241m=\u001b[39m [\n\u001b[0;32m    790\u001b[0m         callback_manager\u001b[38;5;241m.\u001b[39mon_llm_start(\n\u001b[0;32m    791\u001b[0m             dumpd(\u001b[38;5;28mself\u001b[39m),\n\u001b[1;32m   (...)\u001b[0m\n\u001b[0;32m    801\u001b[0m         )\n\u001b[0;32m    802\u001b[0m     ]\n\u001b[1;32m--> 803\u001b[0m     output \u001b[38;5;241m=\u001b[39m \u001b[38;5;28;43mself\u001b[39;49m\u001b[38;5;241;43m.\u001b[39;49m\u001b[43m_generate_helper\u001b[49m\u001b[43m(\u001b[49m\n\u001b[0;32m    804\u001b[0m \u001b[43m        \u001b[49m\u001b[43mprompts\u001b[49m\u001b[43m,\u001b[49m\u001b[43m \u001b[49m\u001b[43mstop\u001b[49m\u001b[43m,\u001b[49m\u001b[43m \u001b[49m\u001b[43mrun_managers\u001b[49m\u001b[43m,\u001b[49m\u001b[43m \u001b[49m\u001b[38;5;28;43mbool\u001b[39;49m\u001b[43m(\u001b[49m\u001b[43mnew_arg_supported\u001b[49m\u001b[43m)\u001b[49m\u001b[43m,\u001b[49m\u001b[43m \u001b[49m\u001b[38;5;241;43m*\u001b[39;49m\u001b[38;5;241;43m*\u001b[39;49m\u001b[43mkwargs\u001b[49m\n\u001b[0;32m    805\u001b[0m \u001b[43m    \u001b[49m\u001b[43m)\u001b[49m\n\u001b[0;32m    806\u001b[0m     \u001b[38;5;28;01mreturn\u001b[39;00m output\n\u001b[0;32m    807\u001b[0m \u001b[38;5;28;01mif\u001b[39;00m \u001b[38;5;28mlen\u001b[39m(missing_prompts) \u001b[38;5;241m>\u001b[39m \u001b[38;5;241m0\u001b[39m:\n",
      "File \u001b[1;32m~\\anaconda3\\envs\\jlab-test\\Lib\\site-packages\\langchain_core\\language_models\\llms.py:670\u001b[0m, in \u001b[0;36mBaseLLM._generate_helper\u001b[1;34m(self, prompts, stop, run_managers, new_arg_supported, **kwargs)\u001b[0m\n\u001b[0;32m    668\u001b[0m     \u001b[38;5;28;01mfor\u001b[39;00m run_manager \u001b[38;5;129;01min\u001b[39;00m run_managers:\n\u001b[0;32m    669\u001b[0m         run_manager\u001b[38;5;241m.\u001b[39mon_llm_error(e, response\u001b[38;5;241m=\u001b[39mLLMResult(generations\u001b[38;5;241m=\u001b[39m[]))\n\u001b[1;32m--> 670\u001b[0m     \u001b[38;5;28;01mraise\u001b[39;00m e\n\u001b[0;32m    671\u001b[0m flattened_outputs \u001b[38;5;241m=\u001b[39m output\u001b[38;5;241m.\u001b[39mflatten()\n\u001b[0;32m    672\u001b[0m \u001b[38;5;28;01mfor\u001b[39;00m manager, flattened_output \u001b[38;5;129;01min\u001b[39;00m \u001b[38;5;28mzip\u001b[39m(run_managers, flattened_outputs):\n",
      "File \u001b[1;32m~\\anaconda3\\envs\\jlab-test\\Lib\\site-packages\\langchain_core\\language_models\\llms.py:657\u001b[0m, in \u001b[0;36mBaseLLM._generate_helper\u001b[1;34m(self, prompts, stop, run_managers, new_arg_supported, **kwargs)\u001b[0m\n\u001b[0;32m    647\u001b[0m \u001b[38;5;28;01mdef\u001b[39;00m \u001b[38;5;21m_generate_helper\u001b[39m(\n\u001b[0;32m    648\u001b[0m     \u001b[38;5;28mself\u001b[39m,\n\u001b[0;32m    649\u001b[0m     prompts: List[\u001b[38;5;28mstr\u001b[39m],\n\u001b[1;32m   (...)\u001b[0m\n\u001b[0;32m    653\u001b[0m     \u001b[38;5;241m*\u001b[39m\u001b[38;5;241m*\u001b[39mkwargs: Any,\n\u001b[0;32m    654\u001b[0m ) \u001b[38;5;241m-\u001b[39m\u001b[38;5;241m>\u001b[39m LLMResult:\n\u001b[0;32m    655\u001b[0m     \u001b[38;5;28;01mtry\u001b[39;00m:\n\u001b[0;32m    656\u001b[0m         output \u001b[38;5;241m=\u001b[39m (\n\u001b[1;32m--> 657\u001b[0m             \u001b[38;5;28;43mself\u001b[39;49m\u001b[38;5;241;43m.\u001b[39;49m\u001b[43m_generate\u001b[49m\u001b[43m(\u001b[49m\n\u001b[0;32m    658\u001b[0m \u001b[43m                \u001b[49m\u001b[43mprompts\u001b[49m\u001b[43m,\u001b[49m\n\u001b[0;32m    659\u001b[0m \u001b[43m                \u001b[49m\u001b[43mstop\u001b[49m\u001b[38;5;241;43m=\u001b[39;49m\u001b[43mstop\u001b[49m\u001b[43m,\u001b[49m\n\u001b[0;32m    660\u001b[0m \u001b[43m                \u001b[49m\u001b[38;5;66;43;03m# TODO: support multiple run managers\u001b[39;49;00m\n\u001b[0;32m    661\u001b[0m \u001b[43m                \u001b[49m\u001b[43mrun_manager\u001b[49m\u001b[38;5;241;43m=\u001b[39;49m\u001b[43mrun_managers\u001b[49m\u001b[43m[\u001b[49m\u001b[38;5;241;43m0\u001b[39;49m\u001b[43m]\u001b[49m\u001b[43m \u001b[49m\u001b[38;5;28;43;01mif\u001b[39;49;00m\u001b[43m \u001b[49m\u001b[43mrun_managers\u001b[49m\u001b[43m \u001b[49m\u001b[38;5;28;43;01melse\u001b[39;49;00m\u001b[43m \u001b[49m\u001b[38;5;28;43;01mNone\u001b[39;49;00m\u001b[43m,\u001b[49m\n\u001b[0;32m    662\u001b[0m \u001b[43m                \u001b[49m\u001b[38;5;241;43m*\u001b[39;49m\u001b[38;5;241;43m*\u001b[39;49m\u001b[43mkwargs\u001b[49m\u001b[43m,\u001b[49m\n\u001b[0;32m    663\u001b[0m \u001b[43m            \u001b[49m\u001b[43m)\u001b[49m\n\u001b[0;32m    664\u001b[0m             \u001b[38;5;28;01mif\u001b[39;00m new_arg_supported\n\u001b[0;32m    665\u001b[0m             \u001b[38;5;28;01melse\u001b[39;00m \u001b[38;5;28mself\u001b[39m\u001b[38;5;241m.\u001b[39m_generate(prompts, stop\u001b[38;5;241m=\u001b[39mstop)\n\u001b[0;32m    666\u001b[0m         )\n\u001b[0;32m    667\u001b[0m     \u001b[38;5;28;01mexcept\u001b[39;00m \u001b[38;5;167;01mBaseException\u001b[39;00m \u001b[38;5;28;01mas\u001b[39;00m e:\n\u001b[0;32m    668\u001b[0m         \u001b[38;5;28;01mfor\u001b[39;00m run_manager \u001b[38;5;129;01min\u001b[39;00m run_managers:\n",
      "File \u001b[1;32m~\\anaconda3\\envs\\jlab-test\\Lib\\site-packages\\langchain_google_genai\\llms.py:290\u001b[0m, in \u001b[0;36mGoogleGenerativeAI._generate\u001b[1;34m(self, prompts, stop, run_manager, **kwargs)\u001b[0m\n\u001b[0;32m    288\u001b[0m \u001b[38;5;28;01mfor\u001b[39;00m prompt \u001b[38;5;129;01min\u001b[39;00m prompts:\n\u001b[0;32m    289\u001b[0m     \u001b[38;5;28;01mif\u001b[39;00m \u001b[38;5;28mself\u001b[39m\u001b[38;5;241m.\u001b[39m_model_family \u001b[38;5;241m==\u001b[39m GoogleModelFamily\u001b[38;5;241m.\u001b[39mGEMINI:\n\u001b[1;32m--> 290\u001b[0m         res \u001b[38;5;241m=\u001b[39m \u001b[43m_completion_with_retry\u001b[49m\u001b[43m(\u001b[49m\n\u001b[0;32m    291\u001b[0m \u001b[43m            \u001b[49m\u001b[38;5;28;43mself\u001b[39;49m\u001b[43m,\u001b[49m\n\u001b[0;32m    292\u001b[0m \u001b[43m            \u001b[49m\u001b[43mprompt\u001b[49m\u001b[38;5;241;43m=\u001b[39;49m\u001b[43mprompt\u001b[49m\u001b[43m,\u001b[49m\n\u001b[0;32m    293\u001b[0m \u001b[43m            \u001b[49m\u001b[43mstream\u001b[49m\u001b[38;5;241;43m=\u001b[39;49m\u001b[38;5;28;43;01mFalse\u001b[39;49;00m\u001b[43m,\u001b[49m\n\u001b[0;32m    294\u001b[0m \u001b[43m            \u001b[49m\u001b[43mis_gemini\u001b[49m\u001b[38;5;241;43m=\u001b[39;49m\u001b[38;5;28;43;01mTrue\u001b[39;49;00m\u001b[43m,\u001b[49m\n\u001b[0;32m    295\u001b[0m \u001b[43m            \u001b[49m\u001b[43mrun_manager\u001b[49m\u001b[38;5;241;43m=\u001b[39;49m\u001b[43mrun_manager\u001b[49m\u001b[43m,\u001b[49m\n\u001b[0;32m    296\u001b[0m \u001b[43m            \u001b[49m\u001b[43mgeneration_config\u001b[49m\u001b[38;5;241;43m=\u001b[39;49m\u001b[43mgeneration_config\u001b[49m\u001b[43m,\u001b[49m\n\u001b[0;32m    297\u001b[0m \u001b[43m            \u001b[49m\u001b[43msafety_settings\u001b[49m\u001b[38;5;241;43m=\u001b[39;49m\u001b[43mkwargs\u001b[49m\u001b[38;5;241;43m.\u001b[39;49m\u001b[43mpop\u001b[49m\u001b[43m(\u001b[49m\u001b[38;5;124;43m\"\u001b[39;49m\u001b[38;5;124;43msafety_settings\u001b[39;49m\u001b[38;5;124;43m\"\u001b[39;49m\u001b[43m,\u001b[49m\u001b[43m \u001b[49m\u001b[38;5;28;43;01mNone\u001b[39;49;00m\u001b[43m)\u001b[49m\u001b[43m,\u001b[49m\n\u001b[0;32m    298\u001b[0m \u001b[43m        \u001b[49m\u001b[43m)\u001b[49m\n\u001b[0;32m    299\u001b[0m         candidates \u001b[38;5;241m=\u001b[39m [\n\u001b[0;32m    300\u001b[0m             \u001b[38;5;124m\"\u001b[39m\u001b[38;5;124m\"\u001b[39m\u001b[38;5;241m.\u001b[39mjoin([p\u001b[38;5;241m.\u001b[39mtext \u001b[38;5;28;01mfor\u001b[39;00m p \u001b[38;5;129;01min\u001b[39;00m c\u001b[38;5;241m.\u001b[39mcontent\u001b[38;5;241m.\u001b[39mparts]) \u001b[38;5;28;01mfor\u001b[39;00m c \u001b[38;5;129;01min\u001b[39;00m res\u001b[38;5;241m.\u001b[39mcandidates\n\u001b[0;32m    301\u001b[0m         ]\n\u001b[0;32m    302\u001b[0m         generations\u001b[38;5;241m.\u001b[39mappend([Generation(text\u001b[38;5;241m=\u001b[39mc) \u001b[38;5;28;01mfor\u001b[39;00m c \u001b[38;5;129;01min\u001b[39;00m candidates])\n",
      "File \u001b[1;32m~\\anaconda3\\envs\\jlab-test\\Lib\\site-packages\\langchain_google_genai\\llms.py:96\u001b[0m, in \u001b[0;36m_completion_with_retry\u001b[1;34m(llm, prompt, is_gemini, stream, run_manager, **kwargs)\u001b[0m\n\u001b[0;32m     93\u001b[0m         \u001b[38;5;28;01mif\u001b[39;00m \u001b[38;5;124m\"\u001b[39m\u001b[38;5;124mlocation is not supported\u001b[39m\u001b[38;5;124m\"\u001b[39m \u001b[38;5;129;01min\u001b[39;00m exc\u001b[38;5;241m.\u001b[39mmessage:\n\u001b[0;32m     94\u001b[0m             \u001b[38;5;28;01mraise\u001b[39;00m \u001b[38;5;167;01mValueError\u001b[39;00m(error_msg)\n\u001b[1;32m---> 96\u001b[0m \u001b[38;5;28;01mreturn\u001b[39;00m \u001b[43m_completion_with_retry\u001b[49m\u001b[43m(\u001b[49m\n\u001b[0;32m     97\u001b[0m \u001b[43m    \u001b[49m\u001b[43mprompt\u001b[49m\u001b[38;5;241;43m=\u001b[39;49m\u001b[43mprompt\u001b[49m\u001b[43m,\u001b[49m\u001b[43m \u001b[49m\u001b[43mis_gemini\u001b[49m\u001b[38;5;241;43m=\u001b[39;49m\u001b[43mis_gemini\u001b[49m\u001b[43m,\u001b[49m\u001b[43m \u001b[49m\u001b[43mstream\u001b[49m\u001b[38;5;241;43m=\u001b[39;49m\u001b[43mstream\u001b[49m\u001b[43m,\u001b[49m\u001b[43m \u001b[49m\u001b[38;5;241;43m*\u001b[39;49m\u001b[38;5;241;43m*\u001b[39;49m\u001b[43mkwargs\u001b[49m\n\u001b[0;32m     98\u001b[0m \u001b[43m\u001b[49m\u001b[43m)\u001b[49m\n",
      "File \u001b[1;32m~\\anaconda3\\envs\\jlab-test\\Lib\\site-packages\\tenacity\\__init__.py:330\u001b[0m, in \u001b[0;36mBaseRetrying.wraps.<locals>.wrapped_f\u001b[1;34m(*args, **kw)\u001b[0m\n\u001b[0;32m    326\u001b[0m \u001b[38;5;129m@functools\u001b[39m\u001b[38;5;241m.\u001b[39mwraps(\n\u001b[0;32m    327\u001b[0m     f, functools\u001b[38;5;241m.\u001b[39mWRAPPER_ASSIGNMENTS \u001b[38;5;241m+\u001b[39m (\u001b[38;5;124m\"\u001b[39m\u001b[38;5;124m__defaults__\u001b[39m\u001b[38;5;124m\"\u001b[39m, \u001b[38;5;124m\"\u001b[39m\u001b[38;5;124m__kwdefaults__\u001b[39m\u001b[38;5;124m\"\u001b[39m)\n\u001b[0;32m    328\u001b[0m )\n\u001b[0;32m    329\u001b[0m \u001b[38;5;28;01mdef\u001b[39;00m \u001b[38;5;21mwrapped_f\u001b[39m(\u001b[38;5;241m*\u001b[39margs: t\u001b[38;5;241m.\u001b[39mAny, \u001b[38;5;241m*\u001b[39m\u001b[38;5;241m*\u001b[39mkw: t\u001b[38;5;241m.\u001b[39mAny) \u001b[38;5;241m-\u001b[39m\u001b[38;5;241m>\u001b[39m t\u001b[38;5;241m.\u001b[39mAny:\n\u001b[1;32m--> 330\u001b[0m     \u001b[38;5;28;01mreturn\u001b[39;00m \u001b[38;5;28;43mself\u001b[39;49m\u001b[43m(\u001b[49m\u001b[43mf\u001b[49m\u001b[43m,\u001b[49m\u001b[43m \u001b[49m\u001b[38;5;241;43m*\u001b[39;49m\u001b[43margs\u001b[49m\u001b[43m,\u001b[49m\u001b[43m \u001b[49m\u001b[38;5;241;43m*\u001b[39;49m\u001b[38;5;241;43m*\u001b[39;49m\u001b[43mkw\u001b[49m\u001b[43m)\u001b[49m\n",
      "File \u001b[1;32m~\\anaconda3\\envs\\jlab-test\\Lib\\site-packages\\tenacity\\__init__.py:467\u001b[0m, in \u001b[0;36mRetrying.__call__\u001b[1;34m(self, fn, *args, **kwargs)\u001b[0m\n\u001b[0;32m    465\u001b[0m retry_state \u001b[38;5;241m=\u001b[39m RetryCallState(retry_object\u001b[38;5;241m=\u001b[39m\u001b[38;5;28mself\u001b[39m, fn\u001b[38;5;241m=\u001b[39mfn, args\u001b[38;5;241m=\u001b[39margs, kwargs\u001b[38;5;241m=\u001b[39mkwargs)\n\u001b[0;32m    466\u001b[0m \u001b[38;5;28;01mwhile\u001b[39;00m \u001b[38;5;28;01mTrue\u001b[39;00m:\n\u001b[1;32m--> 467\u001b[0m     do \u001b[38;5;241m=\u001b[39m \u001b[38;5;28;43mself\u001b[39;49m\u001b[38;5;241;43m.\u001b[39;49m\u001b[43miter\u001b[49m\u001b[43m(\u001b[49m\u001b[43mretry_state\u001b[49m\u001b[38;5;241;43m=\u001b[39;49m\u001b[43mretry_state\u001b[49m\u001b[43m)\u001b[49m\n\u001b[0;32m    468\u001b[0m     \u001b[38;5;28;01mif\u001b[39;00m \u001b[38;5;28misinstance\u001b[39m(do, DoAttempt):\n\u001b[0;32m    469\u001b[0m         \u001b[38;5;28;01mtry\u001b[39;00m:\n",
      "File \u001b[1;32m~\\anaconda3\\envs\\jlab-test\\Lib\\site-packages\\tenacity\\__init__.py:368\u001b[0m, in \u001b[0;36mBaseRetrying.iter\u001b[1;34m(self, retry_state)\u001b[0m\n\u001b[0;32m    366\u001b[0m result \u001b[38;5;241m=\u001b[39m \u001b[38;5;28;01mNone\u001b[39;00m\n\u001b[0;32m    367\u001b[0m \u001b[38;5;28;01mfor\u001b[39;00m action \u001b[38;5;129;01min\u001b[39;00m \u001b[38;5;28mself\u001b[39m\u001b[38;5;241m.\u001b[39miter_state\u001b[38;5;241m.\u001b[39mactions:\n\u001b[1;32m--> 368\u001b[0m     result \u001b[38;5;241m=\u001b[39m \u001b[43maction\u001b[49m\u001b[43m(\u001b[49m\u001b[43mretry_state\u001b[49m\u001b[43m)\u001b[49m\n\u001b[0;32m    369\u001b[0m \u001b[38;5;28;01mreturn\u001b[39;00m result\n",
      "File \u001b[1;32m~\\anaconda3\\envs\\jlab-test\\Lib\\site-packages\\tenacity\\__init__.py:410\u001b[0m, in \u001b[0;36mBaseRetrying._post_stop_check_actions.<locals>.exc_check\u001b[1;34m(rs)\u001b[0m\n\u001b[0;32m    408\u001b[0m retry_exc \u001b[38;5;241m=\u001b[39m \u001b[38;5;28mself\u001b[39m\u001b[38;5;241m.\u001b[39mretry_error_cls(fut)\n\u001b[0;32m    409\u001b[0m \u001b[38;5;28;01mif\u001b[39;00m \u001b[38;5;28mself\u001b[39m\u001b[38;5;241m.\u001b[39mreraise:\n\u001b[1;32m--> 410\u001b[0m     \u001b[38;5;28;01mraise\u001b[39;00m \u001b[43mretry_exc\u001b[49m\u001b[38;5;241;43m.\u001b[39;49m\u001b[43mreraise\u001b[49m\u001b[43m(\u001b[49m\u001b[43m)\u001b[49m\n\u001b[0;32m    411\u001b[0m \u001b[38;5;28;01mraise\u001b[39;00m retry_exc \u001b[38;5;28;01mfrom\u001b[39;00m \u001b[38;5;21;01mfut\u001b[39;00m\u001b[38;5;21;01m.\u001b[39;00m\u001b[38;5;21;01mexception\u001b[39;00m()\n",
      "File \u001b[1;32m~\\anaconda3\\envs\\jlab-test\\Lib\\site-packages\\tenacity\\__init__.py:183\u001b[0m, in \u001b[0;36mRetryError.reraise\u001b[1;34m(self)\u001b[0m\n\u001b[0;32m    181\u001b[0m \u001b[38;5;28;01mdef\u001b[39;00m \u001b[38;5;21mreraise\u001b[39m(\u001b[38;5;28mself\u001b[39m) \u001b[38;5;241m-\u001b[39m\u001b[38;5;241m>\u001b[39m t\u001b[38;5;241m.\u001b[39mNoReturn:\n\u001b[0;32m    182\u001b[0m     \u001b[38;5;28;01mif\u001b[39;00m \u001b[38;5;28mself\u001b[39m\u001b[38;5;241m.\u001b[39mlast_attempt\u001b[38;5;241m.\u001b[39mfailed:\n\u001b[1;32m--> 183\u001b[0m         \u001b[38;5;28;01mraise\u001b[39;00m \u001b[38;5;28;43mself\u001b[39;49m\u001b[38;5;241;43m.\u001b[39;49m\u001b[43mlast_attempt\u001b[49m\u001b[38;5;241;43m.\u001b[39;49m\u001b[43mresult\u001b[49m\u001b[43m(\u001b[49m\u001b[43m)\u001b[49m\n\u001b[0;32m    184\u001b[0m     \u001b[38;5;28;01mraise\u001b[39;00m \u001b[38;5;28mself\u001b[39m\n",
      "File \u001b[1;32m~\\anaconda3\\envs\\jlab-test\\Lib\\concurrent\\futures\\_base.py:449\u001b[0m, in \u001b[0;36mFuture.result\u001b[1;34m(self, timeout)\u001b[0m\n\u001b[0;32m    447\u001b[0m     \u001b[38;5;28;01mraise\u001b[39;00m CancelledError()\n\u001b[0;32m    448\u001b[0m \u001b[38;5;28;01melif\u001b[39;00m \u001b[38;5;28mself\u001b[39m\u001b[38;5;241m.\u001b[39m_state \u001b[38;5;241m==\u001b[39m FINISHED:\n\u001b[1;32m--> 449\u001b[0m     \u001b[38;5;28;01mreturn\u001b[39;00m \u001b[38;5;28;43mself\u001b[39;49m\u001b[38;5;241;43m.\u001b[39;49m\u001b[43m__get_result\u001b[49m\u001b[43m(\u001b[49m\u001b[43m)\u001b[49m\n\u001b[0;32m    451\u001b[0m \u001b[38;5;28mself\u001b[39m\u001b[38;5;241m.\u001b[39m_condition\u001b[38;5;241m.\u001b[39mwait(timeout)\n\u001b[0;32m    453\u001b[0m \u001b[38;5;28;01mif\u001b[39;00m \u001b[38;5;28mself\u001b[39m\u001b[38;5;241m.\u001b[39m_state \u001b[38;5;129;01min\u001b[39;00m [CANCELLED, CANCELLED_AND_NOTIFIED]:\n",
      "File \u001b[1;32m~\\anaconda3\\envs\\jlab-test\\Lib\\concurrent\\futures\\_base.py:401\u001b[0m, in \u001b[0;36mFuture.__get_result\u001b[1;34m(self)\u001b[0m\n\u001b[0;32m    399\u001b[0m \u001b[38;5;28;01mif\u001b[39;00m \u001b[38;5;28mself\u001b[39m\u001b[38;5;241m.\u001b[39m_exception:\n\u001b[0;32m    400\u001b[0m     \u001b[38;5;28;01mtry\u001b[39;00m:\n\u001b[1;32m--> 401\u001b[0m         \u001b[38;5;28;01mraise\u001b[39;00m \u001b[38;5;28mself\u001b[39m\u001b[38;5;241m.\u001b[39m_exception\n\u001b[0;32m    402\u001b[0m     \u001b[38;5;28;01mfinally\u001b[39;00m:\n\u001b[0;32m    403\u001b[0m         \u001b[38;5;66;03m# Break a reference cycle with the exception in self._exception\u001b[39;00m\n\u001b[0;32m    404\u001b[0m         \u001b[38;5;28mself\u001b[39m \u001b[38;5;241m=\u001b[39m \u001b[38;5;28;01mNone\u001b[39;00m\n",
      "File \u001b[1;32m~\\anaconda3\\envs\\jlab-test\\Lib\\site-packages\\tenacity\\__init__.py:470\u001b[0m, in \u001b[0;36mRetrying.__call__\u001b[1;34m(self, fn, *args, **kwargs)\u001b[0m\n\u001b[0;32m    468\u001b[0m \u001b[38;5;28;01mif\u001b[39;00m \u001b[38;5;28misinstance\u001b[39m(do, DoAttempt):\n\u001b[0;32m    469\u001b[0m     \u001b[38;5;28;01mtry\u001b[39;00m:\n\u001b[1;32m--> 470\u001b[0m         result \u001b[38;5;241m=\u001b[39m \u001b[43mfn\u001b[49m\u001b[43m(\u001b[49m\u001b[38;5;241;43m*\u001b[39;49m\u001b[43margs\u001b[49m\u001b[43m,\u001b[49m\u001b[43m \u001b[49m\u001b[38;5;241;43m*\u001b[39;49m\u001b[38;5;241;43m*\u001b[39;49m\u001b[43mkwargs\u001b[49m\u001b[43m)\u001b[49m\n\u001b[0;32m    471\u001b[0m     \u001b[38;5;28;01mexcept\u001b[39;00m \u001b[38;5;167;01mBaseException\u001b[39;00m:  \u001b[38;5;66;03m# noqa: B902\u001b[39;00m\n\u001b[0;32m    472\u001b[0m         retry_state\u001b[38;5;241m.\u001b[39mset_exception(sys\u001b[38;5;241m.\u001b[39mexc_info())  \u001b[38;5;66;03m# type: ignore[arg-type]\u001b[39;00m\n",
      "File \u001b[1;32m~\\anaconda3\\envs\\jlab-test\\Lib\\site-packages\\langchain_google_genai\\llms.py:84\u001b[0m, in \u001b[0;36m_completion_with_retry.<locals>._completion_with_retry\u001b[1;34m(prompt, is_gemini, stream, **kwargs)\u001b[0m\n\u001b[0;32m     82\u001b[0m \u001b[38;5;28;01mtry\u001b[39;00m:\n\u001b[0;32m     83\u001b[0m     \u001b[38;5;28;01mif\u001b[39;00m is_gemini:\n\u001b[1;32m---> 84\u001b[0m         \u001b[38;5;28;01mreturn\u001b[39;00m \u001b[43mllm\u001b[49m\u001b[38;5;241;43m.\u001b[39;49m\u001b[43mclient\u001b[49m\u001b[38;5;241;43m.\u001b[39;49m\u001b[43mgenerate_content\u001b[49m\u001b[43m(\u001b[49m\n\u001b[0;32m     85\u001b[0m \u001b[43m            \u001b[49m\u001b[43mcontents\u001b[49m\u001b[38;5;241;43m=\u001b[39;49m\u001b[43mprompt\u001b[49m\u001b[43m,\u001b[49m\n\u001b[0;32m     86\u001b[0m \u001b[43m            \u001b[49m\u001b[43mstream\u001b[49m\u001b[38;5;241;43m=\u001b[39;49m\u001b[43mstream\u001b[49m\u001b[43m,\u001b[49m\n\u001b[0;32m     87\u001b[0m \u001b[43m            \u001b[49m\u001b[43mgeneration_config\u001b[49m\u001b[38;5;241;43m=\u001b[39;49m\u001b[43mgeneration_config\u001b[49m\u001b[43m,\u001b[49m\n\u001b[0;32m     88\u001b[0m \u001b[43m            \u001b[49m\u001b[43msafety_settings\u001b[49m\u001b[38;5;241;43m=\u001b[39;49m\u001b[43mkwargs\u001b[49m\u001b[38;5;241;43m.\u001b[39;49m\u001b[43mpop\u001b[49m\u001b[43m(\u001b[49m\u001b[38;5;124;43m\"\u001b[39;49m\u001b[38;5;124;43msafety_settings\u001b[39;49m\u001b[38;5;124;43m\"\u001b[39;49m\u001b[43m,\u001b[49m\u001b[43m \u001b[49m\u001b[38;5;28;43;01mNone\u001b[39;49;00m\u001b[43m)\u001b[49m\u001b[43m,\u001b[49m\n\u001b[0;32m     89\u001b[0m \u001b[43m            \u001b[49m\u001b[43mrequest_options\u001b[49m\u001b[38;5;241;43m=\u001b[39;49m\u001b[43m{\u001b[49m\u001b[38;5;124;43m\"\u001b[39;49m\u001b[38;5;124;43mtimeout\u001b[39;49m\u001b[38;5;124;43m\"\u001b[39;49m\u001b[43m:\u001b[49m\u001b[43m \u001b[49m\u001b[43mllm\u001b[49m\u001b[38;5;241;43m.\u001b[39;49m\u001b[43mtimeout\u001b[49m\u001b[43m}\u001b[49m\u001b[43m \u001b[49m\u001b[38;5;28;43;01mif\u001b[39;49;00m\u001b[43m \u001b[49m\u001b[43mllm\u001b[49m\u001b[38;5;241;43m.\u001b[39;49m\u001b[43mtimeout\u001b[49m\u001b[43m \u001b[49m\u001b[38;5;28;43;01melse\u001b[39;49;00m\u001b[43m \u001b[49m\u001b[38;5;28;43;01mNone\u001b[39;49;00m\u001b[43m,\u001b[49m\n\u001b[0;32m     90\u001b[0m \u001b[43m        \u001b[49m\u001b[43m)\u001b[49m\n\u001b[0;32m     91\u001b[0m     \u001b[38;5;28;01mreturn\u001b[39;00m llm\u001b[38;5;241m.\u001b[39mclient\u001b[38;5;241m.\u001b[39mgenerate_text(prompt\u001b[38;5;241m=\u001b[39mprompt, \u001b[38;5;241m*\u001b[39m\u001b[38;5;241m*\u001b[39mkwargs)\n\u001b[0;32m     92\u001b[0m \u001b[38;5;28;01mexcept\u001b[39;00m google\u001b[38;5;241m.\u001b[39mapi_core\u001b[38;5;241m.\u001b[39mexceptions\u001b[38;5;241m.\u001b[39mFailedPrecondition \u001b[38;5;28;01mas\u001b[39;00m exc:\n",
      "File \u001b[1;32m~\\anaconda3\\envs\\jlab-test\\Lib\\site-packages\\google\\generativeai\\generative_models.py:262\u001b[0m, in \u001b[0;36mGenerativeModel.generate_content\u001b[1;34m(self, contents, generation_config, safety_settings, stream, tools, tool_config, request_options)\u001b[0m\n\u001b[0;32m    260\u001b[0m         \u001b[38;5;28;01mreturn\u001b[39;00m generation_types\u001b[38;5;241m.\u001b[39mGenerateContentResponse\u001b[38;5;241m.\u001b[39mfrom_iterator(iterator)\n\u001b[0;32m    261\u001b[0m     \u001b[38;5;28;01melse\u001b[39;00m:\n\u001b[1;32m--> 262\u001b[0m         response \u001b[38;5;241m=\u001b[39m \u001b[38;5;28;43mself\u001b[39;49m\u001b[38;5;241;43m.\u001b[39;49m\u001b[43m_client\u001b[49m\u001b[38;5;241;43m.\u001b[39;49m\u001b[43mgenerate_content\u001b[49m\u001b[43m(\u001b[49m\n\u001b[0;32m    263\u001b[0m \u001b[43m            \u001b[49m\u001b[43mrequest\u001b[49m\u001b[43m,\u001b[49m\n\u001b[0;32m    264\u001b[0m \u001b[43m            \u001b[49m\u001b[38;5;241;43m*\u001b[39;49m\u001b[38;5;241;43m*\u001b[39;49m\u001b[43mrequest_options\u001b[49m\u001b[43m,\u001b[49m\n\u001b[0;32m    265\u001b[0m \u001b[43m        \u001b[49m\u001b[43m)\u001b[49m\n\u001b[0;32m    266\u001b[0m         \u001b[38;5;28;01mreturn\u001b[39;00m generation_types\u001b[38;5;241m.\u001b[39mGenerateContentResponse\u001b[38;5;241m.\u001b[39mfrom_response(response)\n\u001b[0;32m    267\u001b[0m \u001b[38;5;28;01mexcept\u001b[39;00m google\u001b[38;5;241m.\u001b[39mapi_core\u001b[38;5;241m.\u001b[39mexceptions\u001b[38;5;241m.\u001b[39mInvalidArgument \u001b[38;5;28;01mas\u001b[39;00m e:\n",
      "File \u001b[1;32m~\\anaconda3\\envs\\jlab-test\\Lib\\site-packages\\google\\ai\\generativelanguage_v1beta\\services\\generative_service\\client.py:791\u001b[0m, in \u001b[0;36mGenerativeServiceClient.generate_content\u001b[1;34m(self, request, model, contents, retry, timeout, metadata)\u001b[0m\n\u001b[0;32m    788\u001b[0m \u001b[38;5;28mself\u001b[39m\u001b[38;5;241m.\u001b[39m_validate_universe_domain()\n\u001b[0;32m    790\u001b[0m \u001b[38;5;66;03m# Send the request.\u001b[39;00m\n\u001b[1;32m--> 791\u001b[0m response \u001b[38;5;241m=\u001b[39m \u001b[43mrpc\u001b[49m\u001b[43m(\u001b[49m\n\u001b[0;32m    792\u001b[0m \u001b[43m    \u001b[49m\u001b[43mrequest\u001b[49m\u001b[43m,\u001b[49m\n\u001b[0;32m    793\u001b[0m \u001b[43m    \u001b[49m\u001b[43mretry\u001b[49m\u001b[38;5;241;43m=\u001b[39;49m\u001b[43mretry\u001b[49m\u001b[43m,\u001b[49m\n\u001b[0;32m    794\u001b[0m \u001b[43m    \u001b[49m\u001b[43mtimeout\u001b[49m\u001b[38;5;241;43m=\u001b[39;49m\u001b[43mtimeout\u001b[49m\u001b[43m,\u001b[49m\n\u001b[0;32m    795\u001b[0m \u001b[43m    \u001b[49m\u001b[43mmetadata\u001b[49m\u001b[38;5;241;43m=\u001b[39;49m\u001b[43mmetadata\u001b[49m\u001b[43m,\u001b[49m\n\u001b[0;32m    796\u001b[0m \u001b[43m\u001b[49m\u001b[43m)\u001b[49m\n\u001b[0;32m    798\u001b[0m \u001b[38;5;66;03m# Done; return the response.\u001b[39;00m\n\u001b[0;32m    799\u001b[0m \u001b[38;5;28;01mreturn\u001b[39;00m response\n",
      "File \u001b[1;32m~\\anaconda3\\envs\\jlab-test\\Lib\\site-packages\\google\\api_core\\gapic_v1\\method.py:131\u001b[0m, in \u001b[0;36m_GapicCallable.__call__\u001b[1;34m(self, timeout, retry, compression, *args, **kwargs)\u001b[0m\n\u001b[0;32m    128\u001b[0m \u001b[38;5;28;01mif\u001b[39;00m \u001b[38;5;28mself\u001b[39m\u001b[38;5;241m.\u001b[39m_compression \u001b[38;5;129;01mis\u001b[39;00m \u001b[38;5;129;01mnot\u001b[39;00m \u001b[38;5;28;01mNone\u001b[39;00m:\n\u001b[0;32m    129\u001b[0m     kwargs[\u001b[38;5;124m\"\u001b[39m\u001b[38;5;124mcompression\u001b[39m\u001b[38;5;124m\"\u001b[39m] \u001b[38;5;241m=\u001b[39m compression\n\u001b[1;32m--> 131\u001b[0m \u001b[38;5;28;01mreturn\u001b[39;00m \u001b[43mwrapped_func\u001b[49m\u001b[43m(\u001b[49m\u001b[38;5;241;43m*\u001b[39;49m\u001b[43margs\u001b[49m\u001b[43m,\u001b[49m\u001b[43m \u001b[49m\u001b[38;5;241;43m*\u001b[39;49m\u001b[38;5;241;43m*\u001b[39;49m\u001b[43mkwargs\u001b[49m\u001b[43m)\u001b[49m\n",
      "File \u001b[1;32m~\\anaconda3\\envs\\jlab-test\\Lib\\site-packages\\google\\api_core\\retry\\retry_unary.py:293\u001b[0m, in \u001b[0;36mRetry.__call__.<locals>.retry_wrapped_func\u001b[1;34m(*args, **kwargs)\u001b[0m\n\u001b[0;32m    289\u001b[0m target \u001b[38;5;241m=\u001b[39m functools\u001b[38;5;241m.\u001b[39mpartial(func, \u001b[38;5;241m*\u001b[39margs, \u001b[38;5;241m*\u001b[39m\u001b[38;5;241m*\u001b[39mkwargs)\n\u001b[0;32m    290\u001b[0m sleep_generator \u001b[38;5;241m=\u001b[39m exponential_sleep_generator(\n\u001b[0;32m    291\u001b[0m     \u001b[38;5;28mself\u001b[39m\u001b[38;5;241m.\u001b[39m_initial, \u001b[38;5;28mself\u001b[39m\u001b[38;5;241m.\u001b[39m_maximum, multiplier\u001b[38;5;241m=\u001b[39m\u001b[38;5;28mself\u001b[39m\u001b[38;5;241m.\u001b[39m_multiplier\n\u001b[0;32m    292\u001b[0m )\n\u001b[1;32m--> 293\u001b[0m \u001b[38;5;28;01mreturn\u001b[39;00m \u001b[43mretry_target\u001b[49m\u001b[43m(\u001b[49m\n\u001b[0;32m    294\u001b[0m \u001b[43m    \u001b[49m\u001b[43mtarget\u001b[49m\u001b[43m,\u001b[49m\n\u001b[0;32m    295\u001b[0m \u001b[43m    \u001b[49m\u001b[38;5;28;43mself\u001b[39;49m\u001b[38;5;241;43m.\u001b[39;49m\u001b[43m_predicate\u001b[49m\u001b[43m,\u001b[49m\n\u001b[0;32m    296\u001b[0m \u001b[43m    \u001b[49m\u001b[43msleep_generator\u001b[49m\u001b[43m,\u001b[49m\n\u001b[0;32m    297\u001b[0m \u001b[43m    \u001b[49m\u001b[43mtimeout\u001b[49m\u001b[38;5;241;43m=\u001b[39;49m\u001b[38;5;28;43mself\u001b[39;49m\u001b[38;5;241;43m.\u001b[39;49m\u001b[43m_timeout\u001b[49m\u001b[43m,\u001b[49m\n\u001b[0;32m    298\u001b[0m \u001b[43m    \u001b[49m\u001b[43mon_error\u001b[49m\u001b[38;5;241;43m=\u001b[39;49m\u001b[43mon_error\u001b[49m\u001b[43m,\u001b[49m\n\u001b[0;32m    299\u001b[0m \u001b[43m\u001b[49m\u001b[43m)\u001b[49m\n",
      "File \u001b[1;32m~\\anaconda3\\envs\\jlab-test\\Lib\\site-packages\\google\\api_core\\retry\\retry_unary.py:153\u001b[0m, in \u001b[0;36mretry_target\u001b[1;34m(target, predicate, sleep_generator, timeout, on_error, exception_factory, **kwargs)\u001b[0m\n\u001b[0;32m    149\u001b[0m \u001b[38;5;66;03m# pylint: disable=broad-except\u001b[39;00m\n\u001b[0;32m    150\u001b[0m \u001b[38;5;66;03m# This function explicitly must deal with broad exceptions.\u001b[39;00m\n\u001b[0;32m    151\u001b[0m \u001b[38;5;28;01mexcept\u001b[39;00m \u001b[38;5;167;01mException\u001b[39;00m \u001b[38;5;28;01mas\u001b[39;00m exc:\n\u001b[0;32m    152\u001b[0m     \u001b[38;5;66;03m# defer to shared logic for handling errors\u001b[39;00m\n\u001b[1;32m--> 153\u001b[0m     \u001b[43m_retry_error_helper\u001b[49m\u001b[43m(\u001b[49m\n\u001b[0;32m    154\u001b[0m \u001b[43m        \u001b[49m\u001b[43mexc\u001b[49m\u001b[43m,\u001b[49m\n\u001b[0;32m    155\u001b[0m \u001b[43m        \u001b[49m\u001b[43mdeadline\u001b[49m\u001b[43m,\u001b[49m\n\u001b[0;32m    156\u001b[0m \u001b[43m        \u001b[49m\u001b[43msleep\u001b[49m\u001b[43m,\u001b[49m\n\u001b[0;32m    157\u001b[0m \u001b[43m        \u001b[49m\u001b[43merror_list\u001b[49m\u001b[43m,\u001b[49m\n\u001b[0;32m    158\u001b[0m \u001b[43m        \u001b[49m\u001b[43mpredicate\u001b[49m\u001b[43m,\u001b[49m\n\u001b[0;32m    159\u001b[0m \u001b[43m        \u001b[49m\u001b[43mon_error\u001b[49m\u001b[43m,\u001b[49m\n\u001b[0;32m    160\u001b[0m \u001b[43m        \u001b[49m\u001b[43mexception_factory\u001b[49m\u001b[43m,\u001b[49m\n\u001b[0;32m    161\u001b[0m \u001b[43m        \u001b[49m\u001b[43mtimeout\u001b[49m\u001b[43m,\u001b[49m\n\u001b[0;32m    162\u001b[0m \u001b[43m    \u001b[49m\u001b[43m)\u001b[49m\n\u001b[0;32m    163\u001b[0m     \u001b[38;5;66;03m# if exception not raised, sleep before next attempt\u001b[39;00m\n\u001b[0;32m    164\u001b[0m     time\u001b[38;5;241m.\u001b[39msleep(sleep)\n",
      "File \u001b[1;32m~\\anaconda3\\envs\\jlab-test\\Lib\\site-packages\\google\\api_core\\retry\\retry_base.py:212\u001b[0m, in \u001b[0;36m_retry_error_helper\u001b[1;34m(exc, deadline, next_sleep, error_list, predicate_fn, on_error_fn, exc_factory_fn, original_timeout)\u001b[0m\n\u001b[0;32m    206\u001b[0m \u001b[38;5;28;01mif\u001b[39;00m \u001b[38;5;129;01mnot\u001b[39;00m predicate_fn(exc):\n\u001b[0;32m    207\u001b[0m     final_exc, source_exc \u001b[38;5;241m=\u001b[39m exc_factory_fn(\n\u001b[0;32m    208\u001b[0m         error_list,\n\u001b[0;32m    209\u001b[0m         RetryFailureReason\u001b[38;5;241m.\u001b[39mNON_RETRYABLE_ERROR,\n\u001b[0;32m    210\u001b[0m         original_timeout,\n\u001b[0;32m    211\u001b[0m     )\n\u001b[1;32m--> 212\u001b[0m     \u001b[38;5;28;01mraise\u001b[39;00m final_exc \u001b[38;5;28;01mfrom\u001b[39;00m \u001b[38;5;21;01msource_exc\u001b[39;00m\n\u001b[0;32m    213\u001b[0m \u001b[38;5;28;01mif\u001b[39;00m on_error_fn \u001b[38;5;129;01mis\u001b[39;00m \u001b[38;5;129;01mnot\u001b[39;00m \u001b[38;5;28;01mNone\u001b[39;00m:\n\u001b[0;32m    214\u001b[0m     on_error_fn(exc)\n",
      "File \u001b[1;32m~\\anaconda3\\envs\\jlab-test\\Lib\\site-packages\\google\\api_core\\retry\\retry_unary.py:144\u001b[0m, in \u001b[0;36mretry_target\u001b[1;34m(target, predicate, sleep_generator, timeout, on_error, exception_factory, **kwargs)\u001b[0m\n\u001b[0;32m    142\u001b[0m \u001b[38;5;28;01mfor\u001b[39;00m sleep \u001b[38;5;129;01min\u001b[39;00m sleep_generator:\n\u001b[0;32m    143\u001b[0m     \u001b[38;5;28;01mtry\u001b[39;00m:\n\u001b[1;32m--> 144\u001b[0m         result \u001b[38;5;241m=\u001b[39m \u001b[43mtarget\u001b[49m\u001b[43m(\u001b[49m\u001b[43m)\u001b[49m\n\u001b[0;32m    145\u001b[0m         \u001b[38;5;28;01mif\u001b[39;00m inspect\u001b[38;5;241m.\u001b[39misawaitable(result):\n\u001b[0;32m    146\u001b[0m             warnings\u001b[38;5;241m.\u001b[39mwarn(_ASYNC_RETRY_WARNING)\n",
      "File \u001b[1;32m~\\anaconda3\\envs\\jlab-test\\Lib\\site-packages\\google\\api_core\\timeout.py:120\u001b[0m, in \u001b[0;36mTimeToDeadlineTimeout.__call__.<locals>.func_with_timeout\u001b[1;34m(*args, **kwargs)\u001b[0m\n\u001b[0;32m    117\u001b[0m     \u001b[38;5;66;03m# Avoid setting negative timeout\u001b[39;00m\n\u001b[0;32m    118\u001b[0m     kwargs[\u001b[38;5;124m\"\u001b[39m\u001b[38;5;124mtimeout\u001b[39m\u001b[38;5;124m\"\u001b[39m] \u001b[38;5;241m=\u001b[39m \u001b[38;5;28mmax\u001b[39m(\u001b[38;5;241m0\u001b[39m, \u001b[38;5;28mself\u001b[39m\u001b[38;5;241m.\u001b[39m_timeout \u001b[38;5;241m-\u001b[39m time_since_first_attempt)\n\u001b[1;32m--> 120\u001b[0m \u001b[38;5;28;01mreturn\u001b[39;00m \u001b[43mfunc\u001b[49m\u001b[43m(\u001b[49m\u001b[38;5;241;43m*\u001b[39;49m\u001b[43margs\u001b[49m\u001b[43m,\u001b[49m\u001b[43m \u001b[49m\u001b[38;5;241;43m*\u001b[39;49m\u001b[38;5;241;43m*\u001b[39;49m\u001b[43mkwargs\u001b[49m\u001b[43m)\u001b[49m\n",
      "File \u001b[1;32m~\\anaconda3\\envs\\jlab-test\\Lib\\site-packages\\google\\api_core\\grpc_helpers.py:78\u001b[0m, in \u001b[0;36m_wrap_unary_errors.<locals>.error_remapped_callable\u001b[1;34m(*args, **kwargs)\u001b[0m\n\u001b[0;32m     76\u001b[0m     \u001b[38;5;28;01mreturn\u001b[39;00m callable_(\u001b[38;5;241m*\u001b[39margs, \u001b[38;5;241m*\u001b[39m\u001b[38;5;241m*\u001b[39mkwargs)\n\u001b[0;32m     77\u001b[0m \u001b[38;5;28;01mexcept\u001b[39;00m grpc\u001b[38;5;241m.\u001b[39mRpcError \u001b[38;5;28;01mas\u001b[39;00m exc:\n\u001b[1;32m---> 78\u001b[0m     \u001b[38;5;28;01mraise\u001b[39;00m exceptions\u001b[38;5;241m.\u001b[39mfrom_grpc_error(exc) \u001b[38;5;28;01mfrom\u001b[39;00m \u001b[38;5;21;01mexc\u001b[39;00m\n",
      "\u001b[1;31mInvalidArgument\u001b[0m: 400 Add an image to use models/gemini-pro-vision, or switch your model to a text model."
     ]
    }
   ],
   "source": [
    "%%ai gemini:gemini-pro-vision\n",
    "What is in the image {In[33]}"
   ]
  },
  {
   "cell_type": "code",
   "execution_count": 32,
   "id": "2abc0a15-5e3f-48b7-a2f5-05d530c75c18",
   "metadata": {},
   "outputs": [],
   "source": [
    "from PIL import Image\n",
    "\n",
    "im = Image.open(\"traf-violate.jpg\")"
   ]
  },
  {
   "cell_type": "code",
   "execution_count": null,
   "id": "0cc5cc08-56d1-4d35-b283-b62070da0e1e",
   "metadata": {},
   "outputs": [],
   "source": []
  }
 ],
 "metadata": {
  "kernelspec": {
   "display_name": "Python 3 (ipykernel)",
   "language": "python",
   "name": "python3"
  },
  "language_info": {
   "codemirror_mode": {
    "name": "ipython",
    "version": 3
   },
   "file_extension": ".py",
   "mimetype": "text/x-python",
   "name": "python",
   "nbconvert_exporter": "python",
   "pygments_lexer": "ipython3",
   "version": "3.11.9"
  }
 },
 "nbformat": 4,
 "nbformat_minor": 5
}
